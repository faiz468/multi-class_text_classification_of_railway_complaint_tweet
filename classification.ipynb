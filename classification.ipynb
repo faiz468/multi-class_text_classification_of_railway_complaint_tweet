{
 "cells": [
  {
   "cell_type": "code",
   "execution_count": null,
   "metadata": {
    "colab": {
     "base_uri": "https://localhost:8080/"
    },
    "id": "wGHaMcOSgFy5",
    "outputId": "082dacad-9d6e-4990-df32-9eb29c1d74de"
   },
   "outputs": [],
   "source": [
    "import pandas as pd\n",
    "import numpy as np\n",
    "from tqdm.auto import tqdm\n",
    "import tensorflow as tf\n",
    "from transformers import BertTokenizer\n",
    "from sklearn.model_selection import train_test_split"
   ]
  },
  {
   "cell_type": "code",
   "execution_count": null,
   "metadata": {
    "scrolled": false
   },
   "outputs": [
    {
     "data": {
      "text/html": [
       "<div>\n",
       "<style scoped>\n",
       "    .dataframe tbody tr th:only-of-type {\n",
       "        vertical-align: middle;\n",
       "    }\n",
       "\n",
       "    .dataframe tbody tr th {\n",
       "        vertical-align: top;\n",
       "    }\n",
       "\n",
       "    .dataframe thead th {\n",
       "        text-align: right;\n",
       "    }\n",
       "</style>\n",
       "<table border=\"1\" class=\"dataframe\">\n",
       "  <thead>\n",
       "    <tr style=\"text-align: right;\">\n",
       "      <th></th>\n",
       "      <th>Unnamed: 0.1</th>\n",
       "      <th>Unnamed: 0</th>\n",
       "      <th>ID</th>\n",
       "      <th>Tweet</th>\n",
       "      <th>Label</th>\n",
       "      <th>Type</th>\n",
       "    </tr>\n",
       "  </thead>\n",
       "  <tbody>\n",
       "    <tr>\n",
       "      <th>0</th>\n",
       "      <td>2598</td>\n",
       "      <td>1764</td>\n",
       "      <td>NaN</td>\n",
       "      <td>Balurghat is suffering from unnecessary late o...</td>\n",
       "      <td>1</td>\n",
       "      <td>punctuality</td>\n",
       "    </tr>\n",
       "    <tr>\n",
       "      <th>1</th>\n",
       "      <td>1033</td>\n",
       "      <td>1839</td>\n",
       "      <td>3885.0</td>\n",
       "      <td>My parents travelled by #garibrath train from ...</td>\n",
       "      <td>Complaint</td>\n",
       "      <td>Cleanliness</td>\n",
       "    </tr>\n",
       "    <tr>\n",
       "      <th>2</th>\n",
       "      <td>2215</td>\n",
       "      <td>1069</td>\n",
       "      <td>NaN</td>\n",
       "      <td>#IndianRailways no response from IRCTC</td>\n",
       "      <td>1</td>\n",
       "      <td>facility</td>\n",
       "    </tr>\n",
       "    <tr>\n",
       "      <th>3</th>\n",
       "      <td>1124</td>\n",
       "      <td>2012</td>\n",
       "      <td>4058.0</td>\n",
       "      <td>Stopped travelling in #IndianRailways way back...</td>\n",
       "      <td>Complaint</td>\n",
       "      <td>Cleanliness</td>\n",
       "    </tr>\n",
       "    <tr>\n",
       "      <th>4</th>\n",
       "      <td>1943</td>\n",
       "      <td>604</td>\n",
       "      <td>NaN</td>\n",
       "      <td>#IndianRailways 02563 BJU NDLS Running late by...</td>\n",
       "      <td>1</td>\n",
       "      <td>punctuality</td>\n",
       "    </tr>\n",
       "  </tbody>\n",
       "</table>\n",
       "</div>"
      ],
      "text/plain": [
       "   Unnamed: 0.1  Unnamed: 0      ID  \\\n",
       "0          2598        1764     NaN   \n",
       "1          1033        1839  3885.0   \n",
       "2          2215        1069     NaN   \n",
       "3          1124        2012  4058.0   \n",
       "4          1943         604     NaN   \n",
       "\n",
       "                                               Tweet      Label         Type  \n",
       "0  Balurghat is suffering from unnecessary late o...          1  punctuality  \n",
       "1  My parents travelled by #garibrath train from ...  Complaint  Cleanliness  \n",
       "2             #IndianRailways no response from IRCTC          1     facility  \n",
       "3  Stopped travelling in #IndianRailways way back...  Complaint  Cleanliness  \n",
       "4  #IndianRailways 02563 BJU NDLS Running late by...          1  punctuality  "
      ]
     },
     "execution_count": 441,
     "metadata": {},
     "output_type": "execute_result"
    }
   ],
   "source": [
    "comp_test=pd.read_csv('/comp_rtest.csv')\n",
    "comp_test.head()"
   ]
  },
  {
   "cell_type": "code",
   "execution_count": 442,
   "metadata": {},
   "outputs": [
    {
     "data": {
      "text/plain": [
       "'Balurghat is suffering from unnecessary late of the following  train (13161) continuously. #IndianRailways is incessantly ignoring the sufferings. How does a train take 7 hours for 350 kms &amp; almost  5 hours for rest 100 kms despite auto signal and crossing? Shame #ashwinivaishnaw https://t.co/kG03fPuO3y'"
      ]
     },
     "execution_count": 442,
     "metadata": {},
     "output_type": "execute_result"
    }
   ],
   "source": [
    "comp_test['Tweet'][0]\n"
   ]
  },
  {
   "cell_type": "code",
   "execution_count": null,
   "metadata": {
    "scrolled": false
   },
   "outputs": [
    {
     "data": {
      "text/html": [
       "<div>\n",
       "<style scoped>\n",
       "    .dataframe tbody tr th:only-of-type {\n",
       "        vertical-align: middle;\n",
       "    }\n",
       "\n",
       "    .dataframe tbody tr th {\n",
       "        vertical-align: top;\n",
       "    }\n",
       "\n",
       "    .dataframe thead th {\n",
       "        text-align: right;\n",
       "    }\n",
       "</style>\n",
       "<table border=\"1\" class=\"dataframe\">\n",
       "  <thead>\n",
       "    <tr style=\"text-align: right;\">\n",
       "      <th></th>\n",
       "      <th>Unnamed: 0.1</th>\n",
       "      <th>Unnamed: 0</th>\n",
       "      <th>ID</th>\n",
       "      <th>Tweet</th>\n",
       "      <th>Label</th>\n",
       "      <th>Type</th>\n",
       "    </tr>\n",
       "  </thead>\n",
       "  <tbody>\n",
       "    <tr>\n",
       "      <th>0</th>\n",
       "      <td>2455</td>\n",
       "      <td>1476</td>\n",
       "      <td>NaN</td>\n",
       "      <td>This is very unfortunate that #IndianRailways ...</td>\n",
       "      <td>1</td>\n",
       "      <td>punctuality</td>\n",
       "    </tr>\n",
       "    <tr>\n",
       "      <th>1</th>\n",
       "      <td>2545</td>\n",
       "      <td>1644</td>\n",
       "      <td>NaN</td>\n",
       "      <td>@RailMinIndia @RailwaySeva Kaifiyat Exp 12226 ...</td>\n",
       "      <td>1</td>\n",
       "      <td>punctuality</td>\n",
       "    </tr>\n",
       "    <tr>\n",
       "      <th>2</th>\n",
       "      <td>350</td>\n",
       "      <td>612</td>\n",
       "      <td>1158.0</td>\n",
       "      <td>#AshwaniVaishnav #IndianRailways \\nHello sir w...</td>\n",
       "      <td>Complaint</td>\n",
       "      <td>Punctuality</td>\n",
       "    </tr>\n",
       "    <tr>\n",
       "      <th>3</th>\n",
       "      <td>2397</td>\n",
       "      <td>1370</td>\n",
       "      <td>NaN</td>\n",
       "      <td>@AshwiniVaishnaw \\nCould you please help in kn...</td>\n",
       "      <td>1</td>\n",
       "      <td>punctuality</td>\n",
       "    </tr>\n",
       "    <tr>\n",
       "      <th>4</th>\n",
       "      <td>2305</td>\n",
       "      <td>1218</td>\n",
       "      <td>NaN</td>\n",
       "      <td>Too much delay in train timing due to derailme...</td>\n",
       "      <td>1</td>\n",
       "      <td>punctuality</td>\n",
       "    </tr>\n",
       "  </tbody>\n",
       "</table>\n",
       "</div>"
      ],
      "text/plain": [
       "   Unnamed: 0.1  Unnamed: 0      ID  \\\n",
       "0          2455        1476     NaN   \n",
       "1          2545        1644     NaN   \n",
       "2           350         612  1158.0   \n",
       "3          2397        1370     NaN   \n",
       "4          2305        1218     NaN   \n",
       "\n",
       "                                               Tweet      Label         Type  \n",
       "0  This is very unfortunate that #IndianRailways ...          1  punctuality  \n",
       "1  @RailMinIndia @RailwaySeva Kaifiyat Exp 12226 ...          1  punctuality  \n",
       "2  #AshwaniVaishnav #IndianRailways \\nHello sir w...  Complaint  Punctuality  \n",
       "3  @AshwiniVaishnaw \\nCould you please help in kn...          1  punctuality  \n",
       "4  Too much delay in train timing due to derailme...          1  punctuality  "
      ]
     },
     "execution_count": 348,
     "metadata": {},
     "output_type": "execute_result"
    }
   ],
   "source": [
    "df_comp= pd.read_csv('/comp_rtrain.csv')\n",
    "df_comp.head()\n"
   ]
  },
  {
   "cell_type": "code",
   "execution_count": 349,
   "metadata": {},
   "outputs": [],
   "source": [
    "import re\n",
    "import string\n",
    "import nltk\n",
    "from nltk.corpus import stopwords\n",
    "from nltk.tokenize import word_tokenize\n",
    "from nltk.stem import WordNetLemmatizer\n",
    "from sklearn.feature_extraction.text import TfidfVectorizer"
   ]
  },
  {
   "cell_type": "code",
   "execution_count": null,
   "metadata": {},
   "outputs": [],
   "source": [
    "def preprocess_tweet(tweet):\n",
    "    tweet = re.sub(r'http\\S+', '', tweet)\n",
    "    tweet = re.sub(r\"^https://t.co/[a-zA-Z0-9]*\\s\", \" \", tweet)\n",
    "    tweet = re.sub(r\"\\s+https://t.co/[a-zA-Z0-9]*\\s\", \" \", tweet)\n",
    "    tweet = re.sub(r\"\\s+https://t.co/[a-zA-Z0-9]*$\", \" \", tweet)\n",
    "    tweet = tweet.lower()\n",
    "    tweet = re.sub(r\"\\W\",\" \",tweet)\n",
    "    tweet = re.sub(r\"\\d\",\" \",tweet)\n",
    "    tweet = re.sub(r\"\\s+[a-z]\\s+\",\" \",tweet)\n",
    "    tweet = re.sub(r\"\\s+[a-z]$\",\" \",tweet)\n",
    "    tweet = re.sub(r\"^[a-z]\\s+\",\" \",tweet)\n",
    "    tweet = re.sub(r\"\\s+\",\" \",tweet)\n",
    "    \n",
    "    # Remove extra whitespace\n",
    "    tweet = re.sub(r'\\s+', ' ', tweet).strip()\n",
    "    tweet = re.sub(r'#', '', tweet)\n",
    "\n",
    "  \n",
    "    tweet = re.sub(r\"^https://t.co/[a-zA-Z0-9]*\\s\", \" \", tweet)\n",
    "    tweet = re.sub(r\"\\s+https://t.co/[a-zA-Z0-9]*\\s\", \" \", tweet)\n",
    "    tweet = re.sub(r\"\\s+https://t.co/[a-zA-Z0-9]*$\", \" \", tweet)\n",
    "    \n",
    "    # remove mentions\n",
    "    tweet = re.sub(r'@', '', tweet)\n",
    "\n",
    "    \n",
    "    # remove line breaks\n",
    "    tweet = re.sub(r'\\n', '', tweet)\n",
    "    return (tweet)"
   ]
  },
  {
   "cell_type": "code",
   "execution_count": null,
   "metadata": {},
   "outputs": [],
   "source": [
    "textbox = list(x)\n",
    "l=[]\n",
    "for txt in range(textbox):\n",
    "    l.append(preprocess_tweet(txt))"
   ]
  },
  {
   "cell_type": "code",
   "execution_count": 351,
   "metadata": {},
   "outputs": [],
   "source": [
    "comp_test['Tweet'] = comp_test['Tweet'].apply(lambda x: preprocess_tweet(x))\n"
   ]
  },
  {
   "cell_type": "code",
   "execution_count": 352,
   "metadata": {},
   "outputs": [],
   "source": [
    "df_comp['Tweet'] = df_comp['Tweet'].apply(lambda x: preprocess_tweet(x))"
   ]
  },
  {
   "cell_type": "code",
   "execution_count": 353,
   "metadata": {},
   "outputs": [],
   "source": [
    "noice['Tweet'] = noice['tweet'].apply(lambda x: preprocess_tweet(x))"
   ]
  },
  {
   "cell_type": "code",
   "execution_count": 354,
   "metadata": {
    "scrolled": false
   },
   "outputs": [
    {
     "data": {
      "text/plain": [
       "'balurghat is suffering from unnecessary late of the following train continuously indianrailways is incessantly ignoring the sufferings how does train take hours for kms amp almost hours for rest kms despite auto signal and crossing shame ashwinivaishnaw'"
      ]
     },
     "execution_count": 354,
     "metadata": {},
     "output_type": "execute_result"
    }
   ],
   "source": [
    "comp_test['Tweet'][0]"
   ]
  },
  {
   "cell_type": "code",
   "execution_count": null,
   "metadata": {
    "scrolled": true
   },
   "outputs": [
    {
     "data": {
      "text/html": [
       "<div>\n",
       "<style scoped>\n",
       "    .dataframe tbody tr th:only-of-type {\n",
       "        vertical-align: middle;\n",
       "    }\n",
       "\n",
       "    .dataframe tbody tr th {\n",
       "        vertical-align: top;\n",
       "    }\n",
       "\n",
       "    .dataframe thead th {\n",
       "        text-align: right;\n",
       "    }\n",
       "</style>\n",
       "<table border=\"1\" class=\"dataframe\">\n",
       "  <thead>\n",
       "    <tr style=\"text-align: right;\">\n",
       "      <th></th>\n",
       "      <th>Unnamed: 0.1</th>\n",
       "      <th>Unnamed: 0</th>\n",
       "      <th>ID</th>\n",
       "      <th>Tweet</th>\n",
       "      <th>Label</th>\n",
       "      <th>Type</th>\n",
       "    </tr>\n",
       "  </thead>\n",
       "  <tbody>\n",
       "    <tr>\n",
       "      <th>0</th>\n",
       "      <td>244</td>\n",
       "      <td>572</td>\n",
       "      <td>1118.0</td>\n",
       "      <td>List of Railway Stations from Rajasthan under ...</td>\n",
       "      <td>Non-Complaint</td>\n",
       "      <td>Railway stations under redevelopment</td>\n",
       "    </tr>\n",
       "    <tr>\n",
       "      <th>1</th>\n",
       "      <td>576</td>\n",
       "      <td>1825</td>\n",
       "      <td>3871.0</td>\n",
       "      <td>Did you know that #IndianRailways has the larg...</td>\n",
       "      <td>Non-Complaint</td>\n",
       "      <td>General</td>\n",
       "    </tr>\n",
       "    <tr>\n",
       "      <th>2</th>\n",
       "      <td>937</td>\n",
       "      <td>1798</td>\n",
       "      <td>3844.0</td>\n",
       "      <td>Bhopal-Bina MEMU  to return on tracks again fr...</td>\n",
       "      <td>Non-complaint</td>\n",
       "      <td>Information</td>\n",
       "    </tr>\n",
       "    <tr>\n",
       "      <th>3</th>\n",
       "      <td>1229</td>\n",
       "      <td>99</td>\n",
       "      <td>99.0</td>\n",
       "      <td>🚨 #IndianRailways generated a Record-High Reve...</td>\n",
       "      <td>0</td>\n",
       "      <td>NaN</td>\n",
       "    </tr>\n",
       "    <tr>\n",
       "      <th>4</th>\n",
       "      <td>1063</td>\n",
       "      <td>2261</td>\n",
       "      <td>4307.0</td>\n",
       "      <td>Indian Railways’ Shri Ramayana Yatra Train Fro...</td>\n",
       "      <td>Non-complaint</td>\n",
       "      <td>Informational</td>\n",
       "    </tr>\n",
       "  </tbody>\n",
       "</table>\n",
       "</div>"
      ],
      "text/plain": [
       "   Unnamed: 0.1  Unnamed: 0      ID  \\\n",
       "0           244         572  1118.0   \n",
       "1           576        1825  3871.0   \n",
       "2           937        1798  3844.0   \n",
       "3          1229          99    99.0   \n",
       "4          1063        2261  4307.0   \n",
       "\n",
       "                                               Tweet          Label  \\\n",
       "0  List of Railway Stations from Rajasthan under ...  Non-Complaint   \n",
       "1  Did you know that #IndianRailways has the larg...  Non-Complaint   \n",
       "2  Bhopal-Bina MEMU  to return on tracks again fr...  Non-complaint   \n",
       "3  🚨 #IndianRailways generated a Record-High Reve...              0   \n",
       "4  Indian Railways’ Shri Ramayana Yatra Train Fro...  Non-complaint   \n",
       "\n",
       "                                   Type  \n",
       "0  Railway stations under redevelopment  \n",
       "1                               General  \n",
       "2                           Information  \n",
       "3                                   NaN  \n",
       "4                         Informational  "
      ]
     },
     "execution_count": 355,
     "metadata": {},
     "output_type": "execute_result"
    }
   ],
   "source": [
    "df_ncomp= pd.read_csv('/ncomp_rtrain.csv')\n",
    "df_ncomp.head()"
   ]
  },
  {
   "cell_type": "code",
   "execution_count": null,
   "metadata": {},
   "outputs": [
    {
     "data": {
      "text/html": [
       "<div>\n",
       "<style scoped>\n",
       "    .dataframe tbody tr th:only-of-type {\n",
       "        vertical-align: middle;\n",
       "    }\n",
       "\n",
       "    .dataframe tbody tr th {\n",
       "        vertical-align: top;\n",
       "    }\n",
       "\n",
       "    .dataframe thead th {\n",
       "        text-align: right;\n",
       "    }\n",
       "</style>\n",
       "<table border=\"1\" class=\"dataframe\">\n",
       "  <thead>\n",
       "    <tr style=\"text-align: right;\">\n",
       "      <th></th>\n",
       "      <th>Unnamed: 0.1</th>\n",
       "      <th>Unnamed: 0</th>\n",
       "      <th>ID</th>\n",
       "      <th>Tweet</th>\n",
       "      <th>Label</th>\n",
       "      <th>Type</th>\n",
       "    </tr>\n",
       "  </thead>\n",
       "  <tbody>\n",
       "    <tr>\n",
       "      <th>0</th>\n",
       "      <td>998</td>\n",
       "      <td>2073</td>\n",
       "      <td>4119.0</td>\n",
       "      <td>#IndianRailways increases the limit of online ...</td>\n",
       "      <td>Non-complaint</td>\n",
       "      <td>Information</td>\n",
       "    </tr>\n",
       "    <tr>\n",
       "      <th>1</th>\n",
       "      <td>1621</td>\n",
       "      <td>1137</td>\n",
       "      <td>NaN</td>\n",
       "      <td>Dear @RailMinIndia @IRCTCofficial #IndianRailw...</td>\n",
       "      <td>0</td>\n",
       "      <td>safety</td>\n",
       "    </tr>\n",
       "    <tr>\n",
       "      <th>2</th>\n",
       "      <td>611</td>\n",
       "      <td>2014</td>\n",
       "      <td>4060.0</td>\n",
       "      <td>Scenes from the higher standards #durontoexpre...</td>\n",
       "      <td>Non-Complaint</td>\n",
       "      <td>Informational</td>\n",
       "    </tr>\n",
       "    <tr>\n",
       "      <th>3</th>\n",
       "      <td>514</td>\n",
       "      <td>1534</td>\n",
       "      <td>3580.0</td>\n",
       "      <td>A train ticket examiners (TTE) checking the ti...</td>\n",
       "      <td>Non-Complaint</td>\n",
       "      <td>News/Information</td>\n",
       "    </tr>\n",
       "    <tr>\n",
       "      <th>4</th>\n",
       "      <td>413</td>\n",
       "      <td>1034</td>\n",
       "      <td>3080.0</td>\n",
       "      <td>▶️ https://t.co/snz7nf372c\\n\\n@tntourismoffcl ...</td>\n",
       "      <td>Non-Complaint</td>\n",
       "      <td>NaN</td>\n",
       "    </tr>\n",
       "  </tbody>\n",
       "</table>\n",
       "</div>"
      ],
      "text/plain": [
       "   Unnamed: 0.1  Unnamed: 0      ID  \\\n",
       "0           998        2073  4119.0   \n",
       "1          1621        1137     NaN   \n",
       "2           611        2014  4060.0   \n",
       "3           514        1534  3580.0   \n",
       "4           413        1034  3080.0   \n",
       "\n",
       "                                               Tweet          Label  \\\n",
       "0  #IndianRailways increases the limit of online ...  Non-complaint   \n",
       "1  Dear @RailMinIndia @IRCTCofficial #IndianRailw...              0   \n",
       "2  Scenes from the higher standards #durontoexpre...  Non-Complaint   \n",
       "3  A train ticket examiners (TTE) checking the ti...  Non-Complaint   \n",
       "4  ▶️ https://t.co/snz7nf372c\\n\\n@tntourismoffcl ...  Non-Complaint   \n",
       "\n",
       "               Type  \n",
       "0       Information  \n",
       "1            safety  \n",
       "2     Informational  \n",
       "3  News/Information  \n",
       "4               NaN  "
      ]
     },
     "execution_count": 356,
     "metadata": {},
     "output_type": "execute_result"
    }
   ],
   "source": [
    "ncom_test=pd.read_csv('/ncomp_rtest.csv')\n",
    "ncom_test.head()"
   ]
  },
  {
   "cell_type": "code",
   "execution_count": 357,
   "metadata": {
    "scrolled": false
   },
   "outputs": [
    {
     "data": {
      "text/plain": [
       "Complaint    1221\n",
       "1             830\n",
       "complaint      14\n",
       "Name: Label, dtype: int64"
      ]
     },
     "execution_count": 357,
     "metadata": {},
     "output_type": "execute_result"
    }
   ],
   "source": [
    "df_comp['Label'].value_counts()"
   ]
  },
  {
   "cell_type": "code",
   "execution_count": 358,
   "metadata": {},
   "outputs": [
    {
     "data": {
      "text/plain": [
       "Complaint    323\n",
       "1            225\n",
       "complaint      2\n",
       "Name: Label, dtype: int64"
      ]
     },
     "execution_count": 358,
     "metadata": {},
     "output_type": "execute_result"
    }
   ],
   "source": [
    "comp_test['Label'].value_counts()"
   ]
  },
  {
   "cell_type": "code",
   "execution_count": 359,
   "metadata": {},
   "outputs": [
    {
     "data": {
      "text/plain": [
       "0                579\n",
       "Non-Complaint    564\n",
       "Non-complaint    373\n",
       "non-complaint      4\n",
       "Name: Label, dtype: int64"
      ]
     },
     "execution_count": 359,
     "metadata": {},
     "output_type": "execute_result"
    }
   ],
   "source": [
    "df_ncomp['Label'].value_counts()"
   ]
  },
  {
   "cell_type": "code",
   "execution_count": 360,
   "metadata": {},
   "outputs": [
    {
     "data": {
      "text/plain": [
       "0                160\n",
       "Non-Complaint    156\n",
       "Non-complaint     82\n",
       "non-complaint      2\n",
       "Name: Label, dtype: int64"
      ]
     },
     "execution_count": 360,
     "metadata": {},
     "output_type": "execute_result"
    }
   ],
   "source": [
    "ncom_test['Label'].value_counts()"
   ]
  },
  {
   "cell_type": "code",
   "execution_count": 361,
   "metadata": {
    "scrolled": true
   },
   "outputs": [
    {
     "data": {
      "text/plain": [
       "(2065, 6)"
      ]
     },
     "execution_count": 361,
     "metadata": {},
     "output_type": "execute_result"
    }
   ],
   "source": [
    "df_comp.shape"
   ]
  },
  {
   "cell_type": "code",
   "execution_count": 362,
   "metadata": {
    "scrolled": true
   },
   "outputs": [
    {
     "data": {
      "text/plain": [
       "(1520, 6)"
      ]
     },
     "execution_count": 362,
     "metadata": {},
     "output_type": "execute_result"
    }
   ],
   "source": [
    "df_ncomp.shape"
   ]
  },
  {
   "cell_type": "code",
   "execution_count": 363,
   "metadata": {},
   "outputs": [],
   "source": [
    "df_comp['class1']=df_comp['Label'].map({'Complaint': 1,\n",
    "                                        'complaint': 1,\n",
    "                                         '1':1})"
   ]
  },
  {
   "cell_type": "code",
   "execution_count": 364,
   "metadata": {},
   "outputs": [],
   "source": [
    "noice['class1']=noice['label']\n"
   ]
  },
  {
   "cell_type": "code",
   "execution_count": 365,
   "metadata": {},
   "outputs": [],
   "source": [
    "comp_test['class1']=comp_test['Label'].map({'Complaint': 1,\n",
    "                                        'complaint': 1,\n",
    "                                         '1':1})"
   ]
  },
  {
   "cell_type": "code",
   "execution_count": 366,
   "metadata": {},
   "outputs": [
    {
     "data": {
      "text/plain": [
       "1    550\n",
       "Name: class1, dtype: int64"
      ]
     },
     "execution_count": 366,
     "metadata": {},
     "output_type": "execute_result"
    }
   ],
   "source": [
    "comp_test['class1'].value_counts()"
   ]
  },
  {
   "cell_type": "code",
   "execution_count": 367,
   "metadata": {
    "scrolled": true
   },
   "outputs": [
    {
     "data": {
      "text/plain": [
       "1    2065\n",
       "Name: class1, dtype: int64"
      ]
     },
     "execution_count": 367,
     "metadata": {},
     "output_type": "execute_result"
    }
   ],
   "source": [
    "df_comp['class1'].value_counts()"
   ]
  },
  {
   "cell_type": "code",
   "execution_count": 368,
   "metadata": {},
   "outputs": [],
   "source": [
    "df_ncomp['class1']=df_ncomp['Label'].map({'Non-Complaint': 0,\n",
    "                                        'Non-complaint': 0,\n",
    "                                         'non-complaint':0,\n",
    "                                         '0':0})"
   ]
  },
  {
   "cell_type": "code",
   "execution_count": 369,
   "metadata": {},
   "outputs": [],
   "source": [
    "ncom_test['class1']=ncom_test['Label'].map({'Non-Complaint': 0,\n",
    "                                        'Non-complaint': 0,\n",
    "                                         'non-complaint':0,\n",
    "                                         '0':0})"
   ]
  },
  {
   "cell_type": "code",
   "execution_count": 370,
   "metadata": {},
   "outputs": [
    {
     "data": {
      "text/plain": [
       "0    400\n",
       "Name: class1, dtype: int64"
      ]
     },
     "execution_count": 370,
     "metadata": {},
     "output_type": "execute_result"
    }
   ],
   "source": [
    "ncom_test['class1'].value_counts()"
   ]
  },
  {
   "cell_type": "code",
   "execution_count": 371,
   "metadata": {},
   "outputs": [
    {
     "data": {
      "text/plain": [
       "0    1520\n",
       "Name: class1, dtype: int64"
      ]
     },
     "execution_count": 371,
     "metadata": {},
     "output_type": "execute_result"
    }
   ],
   "source": [
    "df_ncomp['class1'].value_counts()"
   ]
  },
  {
   "cell_type": "code",
   "execution_count": 372,
   "metadata": {},
   "outputs": [],
   "source": [
    "df_comp['class1'] = df_comp['class1'].astype(int)\n",
    "df_ncomp['class1'] = df_ncomp['class1'].astype(int)"
   ]
  },
  {
   "cell_type": "code",
   "execution_count": 373,
   "metadata": {},
   "outputs": [],
   "source": [
    "noice['class1']=noice['class1'].astype(int)"
   ]
  },
  {
   "cell_type": "code",
   "execution_count": 375,
   "metadata": {},
   "outputs": [
    {
     "data": {
      "text/plain": [
       "(3585, 7)"
      ]
     },
     "execution_count": 375,
     "metadata": {},
     "output_type": "execute_result"
    }
   ],
   "source": [
    "df_balanced = pd.concat([df_comp, df_ncomp])\n",
    "df_balanced.shape"
   ]
  },
  {
   "cell_type": "code",
   "execution_count": 376,
   "metadata": {},
   "outputs": [],
   "source": [
    "df_balanced = df_balanced.sample(frac=1, random_state=42)"
   ]
  },
  {
   "cell_type": "code",
   "execution_count": 377,
   "metadata": {
    "scrolled": true
   },
   "outputs": [
    {
     "data": {
      "text/plain": [
       "1    2065\n",
       "0    1520\n",
       "Name: class1, dtype: int64"
      ]
     },
     "execution_count": 377,
     "metadata": {},
     "output_type": "execute_result"
    }
   ],
   "source": [
    "df_balanced['class1'].value_counts()"
   ]
  },
  {
   "cell_type": "code",
   "execution_count": 378,
   "metadata": {},
   "outputs": [
    {
     "data": {
      "text/plain": [
       "(950, 7)"
      ]
     },
     "execution_count": 378,
     "metadata": {},
     "output_type": "execute_result"
    }
   ],
   "source": [
    "test_bal=pd.concat([ncom_test, comp_test])\n",
    "test_bal.shape"
   ]
  },
  {
   "cell_type": "code",
   "execution_count": 379,
   "metadata": {},
   "outputs": [
    {
     "name": "stdout",
     "output_type": "stream",
     "text": [
      "Punctuality                                                   405\n",
      "punctuality                                                   227\n",
      "Service                                                       143\n",
      "Cleanliness                                                   131\n",
      "Miscellaneous                                                 123\n",
      "facility                                                      101\n",
      "Security                                                       69\n",
      "Crowding                                                       64\n",
      "Ticket booking                                                 58\n",
      "cleanliness                                                    53\n",
      "others                                                         52\n",
      "Bed Roll                                                       51\n",
      "Electrical Equioment                                           48\n",
      "Corruption / Bribery                                           45\n",
      "Catering & Vending Services                                    41\n",
      "Political                                                      40\n",
      "Refund                                                         38\n",
      "Maintenance                                                    36\n",
      "security                                                       35\n",
      "corruption / bribery                                           34\n",
      "Staff Behaviour                                                29\n",
      "staff behaviour                                                28\n",
      "bed roll                                                       28\n",
      "electrical equioment                                           28\n",
      "Water Availability                                             20\n",
      "miscellaneous                                                  14\n",
      "loss/found                                                     14\n",
      "water availability                                             13\n",
      "maintenance                                                    11\n",
      "catering & vending services                                    10\n",
      "food                                                            9\n",
      "Staff Behavior                                                  9\n",
      "Medical Assistance                                              8\n",
      "safety                                                          8\n",
      "Electrical Equipment                                            5\n",
      "Facilities                                                      3\n",
      "medical assistance                                              2\n",
      "Others                                                          2\n",
      "Services                                                        2\n",
      "Water availability                                              2\n",
      "Difficulty in booking tickets                                   1\n",
      "Criticism                                                       1\n",
      "Bed roll                                                        1\n",
      "Ticket Booking Charge                                           1\n",
      "Bed                                                             1\n",
      "Cancelled Train                                                 1\n",
      "Safety                                                          1\n",
      "Train Delay                                                     1\n",
      "Delay                                                           1\n",
      "Train delay                                                     1\n",
      "Employee                                                        1\n",
      "Misleaneus                                                      1\n",
      "Staff behavior                                                  1\n",
      "#RailwaysExams https://t.co/BQf1o8Ugv3                          1\n",
      "Opposition to the SilverLine project and ecological impact      1\n",
      "Petrol theft during vehicle parceling                           1\n",
      "Service quality                                                 1\n",
      "None                                                            1\n",
      "Service feedback                                                1\n",
      "Child labor and begging on train                                1\n",
      "Request/Suggestion                                              1\n",
      "Poor condition                                                  1\n",
      "Fare Charges                                                    1\n",
      "Food Quality                                                    1\n",
      "Service issue                                                   1\n",
      "Name: Type, dtype: int64\n"
     ]
    }
   ],
   "source": [
    "with pd.option_context('display.max_rows', None):\n",
    "    print(df_comp['Type'].value_counts())\n",
    "\n"
   ]
  },
  {
   "cell_type": "code",
   "execution_count": null,
   "metadata": {
    "colab": {
     "base_uri": "https://localhost:8080/"
    },
    "id": "yoHMlqqJhiZW",
    "outputId": "04d30739-f1f7-4f4c-a5b2-e7ce935b9711",
    "scrolled": false
   },
   "outputs": [
    {
     "name": "stdout",
     "output_type": "stream",
     "text": [
      "<class 'pandas.core.frame.DataFrame'>\n",
      "RangeIndex: 2065 entries, 0 to 2064\n",
      "Data columns (total 8 columns):\n",
      " #   Column        Non-Null Count  Dtype  \n",
      "---  ------        --------------  -----  \n",
      " 0   Unnamed: 0.1  2065 non-null   int64  \n",
      " 1   Unnamed: 0    2065 non-null   int64  \n",
      " 2   ID            1362 non-null   float64\n",
      " 3   Tweet         2065 non-null   object \n",
      " 4   Label         2065 non-null   object \n",
      " 5   Type          2064 non-null   object \n",
      " 6   class1        2065 non-null   int64  \n",
      " 7   class2        2057 non-null   float64\n",
      "dtypes: float64(2), int64(3), object(3)\n",
      "memory usage: 129.2+ KB\n"
     ]
    }
   ],
   "source": [
    "df_comp['class2'] = df_comp['Type'].map({'Punctuality': 0,\n",
    "                               'punctuality':0,\n",
    "                                         'Cancelled Train':0,\n",
    "                                         'Train delay':0,\n",
    "                                         'Train Delay':0,\n",
    "                                         'Delay':0,\n",
    "                                         'Service': 1,\n",
    "                                         'facility':1,\n",
    "                                         'Ticket booking':1,\n",
    "                                         'Refund': 1,\n",
    "                                         'Services': 1,\n",
    "                                         'Facilities': 1,\n",
    "                                         'Difficulty in booking tickets': 1,\n",
    "                                         'Logistics': 1,\n",
    "                                         'Fare Charges': 1,\n",
    "                                         'Ticket/ Seat Availability':1,\n",
    "                                         'Service feedback':1,\n",
    "                                         'Service quality': 1,\n",
    "                                         'Criticism':1,\n",
    "                                         'Ticket Booking Charge':1,\n",
    "                                         'Request/Suggestion':1,\n",
    "                                         'Service issue':1,\n",
    "                                         'service':1,\n",
    "                                         'Ticket Booking': 1,\n",
    "                                         'Miscellaneous': 1,\n",
    "                                         'miscellaneous': 1,\n",
    "                                         'Misleaneus':1,\n",
    "                                         'Medical Assistance':1,\n",
    "                                         'medical assistance':1,\n",
    "                                         \n",
    "                                         'Cleanliness': 2,\n",
    "                                         'cleanliness': 2,\n",
    "                                         'Water Availability':2,\n",
    "                                         'water availability':2,\n",
    "                                         \n",
    "                                         \n",
    "                                         'Political': 3,\n",
    "                                         'others': 3,\n",
    "                                         'Others': 3,\n",
    "                                         \n",
    "                                            \n",
    "                                         'Security': 4,\n",
    "                                         'security': 4,\n",
    "                                         'loss/found': 4,\n",
    "                                         'safety': 4,\n",
    "                                         'Petrol theft during vehicle parceling':4,\n",
    "                                            \n",
    "                                            \n",
    "                                            \n",
    "                                         'Bed Roll': 5,\n",
    "                                         'bed roll':5,\n",
    "                                         'Bed':5,\n",
    "                                         'Bed roll':5,\n",
    "                                         \n",
    "                                         \n",
    "                                         'Catering & Vending Services': 6,\n",
    "                                         'food':6,\n",
    "                                         'catering & vending services':6,\n",
    "                                         'Food Quality':6,\n",
    "                                         \n",
    "                                         \n",
    "                                            'Electrical Equioment': 7,\n",
    "                                            'electrical equioment':7,\n",
    "                                         'Electrical Equipment':7,\n",
    "                                            'Maintenance': 7,\n",
    "                                         'maintenance':7,\n",
    "                                         'Poor condition':7,\n",
    "                                         \n",
    "                                         \n",
    "                                            'Crowding': 8,\n",
    "                                           'Corruption / Bribery': 8,\n",
    "                                         'corruption / bribery':8,\n",
    "                                         \n",
    "                                         \n",
    "                                            'Staff Behaviour':9,\n",
    "                                            'staff behaviour':9,\n",
    "                                            'Staff Behavior':9,\n",
    "                               'Staff behavior':9,\n",
    "                                         'Employee':9,                                \n",
    "                              })\n",
    "\n",
    "# drop unused column\n",
    "df_comp.info()"
   ]
  },
  {
   "cell_type": "code",
   "execution_count": null,
   "metadata": {
    "scrolled": false
   },
   "outputs": [
    {
     "name": "stdout",
     "output_type": "stream",
     "text": [
      "<class 'pandas.core.frame.DataFrame'>\n",
      "RangeIndex: 550 entries, 0 to 549\n",
      "Data columns (total 8 columns):\n",
      " #   Column        Non-Null Count  Dtype  \n",
      "---  ------        --------------  -----  \n",
      " 0   Unnamed: 0.1  550 non-null    int64  \n",
      " 1   Unnamed: 0    550 non-null    int64  \n",
      " 2   ID            358 non-null    float64\n",
      " 3   Tweet         550 non-null    object \n",
      " 4   Label         550 non-null    object \n",
      " 5   Type          550 non-null    object \n",
      " 6   class1        550 non-null    int64  \n",
      " 7   class2        550 non-null    int64  \n",
      "dtypes: float64(1), int64(4), object(3)\n",
      "memory usage: 34.5+ KB\n"
     ]
    }
   ],
   "source": [
    "comp_test['class2'] = comp_test['Type'].map({'Punctuality': 0,\n",
    "                               'punctuality':0,\n",
    "                                         'Cancelled Train':0,\n",
    "                                         'Train delay':0,\n",
    "                                         'Train Delay':0,\n",
    "                                         'Delay':0,\n",
    "                                         'Service': 1,\n",
    "                                         'facility':1,\n",
    "                                         'Ticket booking':1,\n",
    "                                         'Refund': 1,\n",
    "                                         'Services': 1,\n",
    "                                         'Facilities': 1,\n",
    "                                         'Difficulty in booking tickets': 1,\n",
    "                                         'Logistics': 1,\n",
    "                                         'Fare Charges': 1,\n",
    "                                         'Ticket/ Seat Availability':1,\n",
    "                                         'Service feedback':1,\n",
    "                                         'Service quality': 1,\n",
    "                                         'Criticism':1,\n",
    "                                         'Ticket Booking Charge':1,\n",
    "                                         'Request/Suggestion':1,\n",
    "                                         'Service issue':1,\n",
    "                                         'service':1,\n",
    "                                         'Ticket Booking': 1,\n",
    "                                         'Miscellaneous': 1,\n",
    "                                         'miscellaneous': 1,\n",
    "                                         'Misleaneus':1,\n",
    "                                         'Medical Assistance':1,\n",
    "                                         'medical assistance':1,\n",
    "                                         \n",
    "                                         'Cleanliness': 2,\n",
    "                                         'cleanliness': 2,\n",
    "                                         'Water Availability':2,\n",
    "                                         'water availability':2,\n",
    "                                         \n",
    "                                         \n",
    "                                         'Political': 3,\n",
    "                                         'others': 3,\n",
    "                                         'Others': 3,\n",
    "                                         \n",
    "                                            \n",
    "                                         'Security': 4,\n",
    "                                         'security': 4,\n",
    "                                         'loss/found': 4,\n",
    "                                         'safety': 4,\n",
    "                                         'Petrol theft during vehicle parceling':4,\n",
    "                                            \n",
    "                                            \n",
    "                                            \n",
    "                                         'Bed Roll': 5,\n",
    "                                         'bed roll':5,\n",
    "                                         'Bed':5,\n",
    "                                         'Bed roll':5,\n",
    "                                         \n",
    "                                         \n",
    "                                         'Catering & Vending Services': 6,\n",
    "                                         'food':6,\n",
    "                                         'catering & vending services':6,\n",
    "                                         'Food Quality':6,\n",
    "                                         \n",
    "                                         \n",
    "                                            'Electrical Equioment': 7,\n",
    "                                            'electrical equioment':7,\n",
    "                                         'Electrical Equipment':7,\n",
    "                                            'Maintenance': 7,\n",
    "                                         'maintenance':7,\n",
    "                                         'Poor condition':7,\n",
    "                                         \n",
    "                                         \n",
    "                                            'Crowding': 8,\n",
    "                                           'Corruption / Bribery': 8,\n",
    "                                         'corruption / bribery':8,\n",
    "                                         \n",
    "                                         \n",
    "                                            'Staff Behaviour':9,\n",
    "                                          'staff behaviour':9,\n",
    "                                          'Staff Behavior':9,\n",
    "                                          'Staff behavior':9,\n",
    "                                          'Employee':9,               \n",
    "                              })\n",
    "\n",
    "# drop unused column\n",
    "\n",
    "comp_test.info()"
   ]
  },
  {
   "cell_type": "code",
   "execution_count": 382,
   "metadata": {},
   "outputs": [
    {
     "data": {
      "text/plain": [
       "1    3000\n",
       "2    2922\n",
       "4    1500\n",
       "0    1500\n",
       "8    1500\n",
       "7    1500\n",
       "9     478\n",
       "Name: class2, dtype: int64"
      ]
     },
     "execution_count": 382,
     "metadata": {},
     "output_type": "execute_result"
    }
   ],
   "source": [
    "noice['class2'].value_counts()"
   ]
  },
  {
   "cell_type": "code",
   "execution_count": 383,
   "metadata": {
    "colab": {
     "base_uri": "https://localhost:8080/"
    },
    "id": "a14J8yijkVEe",
    "outputId": "64636fb4-a710-4209-bb72-2a6ae17498d9"
   },
   "outputs": [
    {
     "data": {
      "text/plain": [
       "0.0    636\n",
       "1.0    501\n",
       "2.0    217\n",
       "8.0    143\n",
       "7.0    129\n",
       "4.0    127\n",
       "3.0     94\n",
       "5.0     81\n",
       "9.0     68\n",
       "6.0     61\n",
       "Name: class2, dtype: int64"
      ]
     },
     "execution_count": 383,
     "metadata": {},
     "output_type": "execute_result"
    }
   ],
   "source": [
    "df_comp['class2'].value_counts()"
   ]
  },
  {
   "cell_type": "code",
   "execution_count": 384,
   "metadata": {},
   "outputs": [],
   "source": [
    "df_comp = df_comp.fillna(8)"
   ]
  },
  {
   "cell_type": "code",
   "execution_count": 385,
   "metadata": {},
   "outputs": [],
   "source": [
    "comp_test=comp_test.fillna(1)"
   ]
  },
  {
   "cell_type": "code",
   "execution_count": 386,
   "metadata": {
    "colab": {
     "base_uri": "https://localhost:8080/",
     "height": 53
    },
    "id": "AA_9taTzgaYV",
    "outputId": "2e689077-fdd9-4258-d687-265df00b325d",
    "scrolled": false
   },
   "outputs": [
    {
     "data": {
      "text/plain": [
       "0    636\n",
       "1    501\n",
       "2    217\n",
       "8    151\n",
       "7    129\n",
       "4    127\n",
       "3     94\n",
       "5     81\n",
       "9     68\n",
       "6     61\n",
       "Name: class2, dtype: int64"
      ]
     },
     "execution_count": 386,
     "metadata": {},
     "output_type": "execute_result"
    }
   ],
   "source": [
    "df_comp['class2'] = df_comp['class2'].astype(int)\n",
    "     \n",
    "\n",
    "df_comp['class2'].value_counts()\n"
   ]
  },
  {
   "cell_type": "code",
   "execution_count": 388,
   "metadata": {},
   "outputs": [
    {
     "data": {
      "text/plain": [
       "1    152\n",
       "0    151\n",
       "2     53\n",
       "8     43\n",
       "7     31\n",
       "4     29\n",
       "6     27\n",
       "3     23\n",
       "5     22\n",
       "9     19\n",
       "Name: class2, dtype: int64"
      ]
     },
     "execution_count": 388,
     "metadata": {},
     "output_type": "execute_result"
    }
   ],
   "source": [
    "comp_test['class2'] = comp_test['class2'].astype(int)\n",
    "     \n",
    "\n",
    "comp_test['class2'].value_counts()\n"
   ]
  },
  {
   "cell_type": "code",
   "execution_count": 389,
   "metadata": {
    "colab": {
     "base_uri": "https://localhost:8080/",
     "height": 197,
     "referenced_widgets": [
      "92dcbd1f1023455c82bc30e6462d25f5",
      "2e5b2e9d7f7748f39019489153d0ae9e",
      "ce5a9d5627014739aea95182bc501c0e",
      "cbd9dbc41095496498d77158899d9484",
      "1a2b243e37a845c0b2222d1e40448c43",
      "bc2993b561f946f9ba151318958cfcfb",
      "fe0f031bb0cf4a5983f6495bc5396697",
      "61024c09df594b79a52851668f153fff",
      "35c2850dcf284810bf45f136626cf555",
      "b3de2ecf011943a4b7b8b1f946abd447",
      "cd6a3bf1c89a40c1bb62cef75b3c12ce",
      "7167fdd0ba59483eb69e0f75dd7c12f8",
      "71c61e3aec0846b5a522029b6c187e21",
      "5365ef0dfecb4a2d821218b260c1308b",
      "eb11c58f33d34d2c89c8d3264eb51844",
      "ea2d523f220342e693da05f823b4517d",
      "ea0825e5775c42b198c16a64a931b89a",
      "a2f174b09f22452394bb90542334db79",
      "cda2d1aec8f74fc3ad43a9dd97821e99",
      "bef9b2ba134047ed8d08b5f6d327f4c5",
      "61dce4ce20ef4495b862ea09d4e9a29a",
      "eef85bee67694663ad6d6244dea69367",
      "827a06a82f434299943e9bc5edd90a6d",
      "498719aeac64428cbd75dc88ead2f161",
      "337269d60e14455a886bcece527f5145",
      "1beed2cf377d489ab86b2e7baa417561",
      "5ebf1b9671a14920a9baff3ecdf6f781",
      "40cf1add88b5482796afd388cface7de",
      "c03985813efe47da812b65fa1e05394d",
      "8cc2c2206155465293d35ed3750f7ced",
      "1d999983e6f743c4b5948a2fe74751f8",
      "ad99226e1e774811bb77585f0e05d83d",
      "061e49b491184ed98f6adf803e3c318b"
     ]
    },
    "id": "QUFmcNyWg9N-",
    "outputId": "fc2cbf4a-6511-4abc-c9aa-af02f187e23a"
   },
   "outputs": [],
   "source": [
    "tokenizer = BertTokenizer.from_pretrained('bert-base-cased')"
   ]
  },
  {
   "cell_type": "code",
   "execution_count": 390,
   "metadata": {
    "id": "oQOCz4tKmn48"
   },
   "outputs": [],
   "source": [
    "token = tokenizer.encode_plus(\n",
    "    df_comp['Tweet'].iloc[0], \n",
    "    max_length=256, \n",
    "    truncation=True, \n",
    "    padding='max_length', \n",
    "    add_special_tokens=True,\n",
    "    return_tensors='tf'\n",
    ")"
   ]
  },
  {
   "cell_type": "code",
   "execution_count": 391,
   "metadata": {
    "id": "Q9U_NJAMmoyD"
   },
   "outputs": [],
   "source": [
    "bal_input_ids=np.zeros((len(df_balanced), 256))\n",
    "bal_attn_masks = np.zeros((len(df_balanced), 256))\n",
    "\n",
    "X_input_ids = np.zeros((len(df_comp), 256))\n",
    "X_attn_masks = np.zeros((len(df_comp), 256))"
   ]
  },
  {
   "cell_type": "code",
   "execution_count": 392,
   "metadata": {},
   "outputs": [],
   "source": [
    "test_bal_input_ids=np.zeros((len(test_bal), 256))\n",
    "test_bal_attn_masks = np.zeros((len(test_bal), 256))\n",
    "\n",
    "test_X_input_ids = np.zeros((len(comp_test), 256))\n",
    "test_X_attn_masks = np.zeros((len(comp_test), 256))"
   ]
  },
  {
   "cell_type": "code",
   "execution_count": 393,
   "metadata": {
    "id": "H1EE_o5umsTo"
   },
   "outputs": [],
   "source": [
    "def generate_training_data(train_df, ids, masks, tokenizer):\n",
    "    for i, text in tqdm(enumerate(train_df['Tweet'])):\n",
    "        tokenized_text = tokenizer.encode_plus(\n",
    "            text,\n",
    "            max_length=256, \n",
    "            truncation=True, \n",
    "            padding='max_length', \n",
    "            add_special_tokens=True,\n",
    "            return_tensors='tf'\n",
    "        )\n",
    "        ids[i, :] = tokenized_text.input_ids\n",
    "        masks[i, :] = tokenized_text.attention_mask\n",
    "    return ids, masks"
   ]
  },
  {
   "cell_type": "code",
   "execution_count": 394,
   "metadata": {
    "colab": {
     "base_uri": "https://localhost:8080/",
     "height": 49,
     "referenced_widgets": [
      "c7985d8a4415417bbfce8a6349d37812",
      "46ed1b7b4c9f4f8b92e4e0b7a07de2b1",
      "4e2baf19a43042d6965f3193f0f19a1e",
      "3142d6b06b7e42a0adb30e32031a5496",
      "00268c1912584791ba7630588ef09240",
      "592fcaa0be7442c59698df4cade8229f",
      "aece43f7f8354cec821ffd8656e53d18",
      "af7f639c215e42adba89bbf105cd9904",
      "eb1429c60cd24b36865530e1012cb1dc",
      "8a97a0ea90b349cda9805bf9bdf04a29",
      "c6dd775743ec41e78db999123d3f0804"
     ]
    },
    "id": "0EO03x3om19S",
    "outputId": "cd4405c8-9adc-4ff6-f3ba-6faa8b548321",
    "scrolled": true
   },
   "outputs": [
    {
     "data": {
      "application/vnd.jupyter.widget-view+json": {
       "model_id": "27780f073bde444ab2f3fd5c4c8c4e35",
       "version_major": 2,
       "version_minor": 0
      },
      "text/plain": [
       "0it [00:00, ?it/s]"
      ]
     },
     "metadata": {},
     "output_type": "display_data"
    },
    {
     "data": {
      "application/vnd.jupyter.widget-view+json": {
       "model_id": "71d249d812d943b4ae3ba2e24b441b8f",
       "version_major": 2,
       "version_minor": 0
      },
      "text/plain": [
       "0it [00:00, ?it/s]"
      ]
     },
     "metadata": {},
     "output_type": "display_data"
    }
   ],
   "source": [
    "X_input_ids, X_attn_masks = generate_training_data(df_comp, X_input_ids, X_attn_masks, tokenizer)\n",
    "bal_input_ids,bal_attn_masks=generate_training_data(df_balanced, bal_input_ids, bal_attn_masks, tokenizer)\n"
   ]
  },
  {
   "cell_type": "code",
   "execution_count": 395,
   "metadata": {},
   "outputs": [
    {
     "data": {
      "application/vnd.jupyter.widget-view+json": {
       "model_id": "65b5f11a49ee4b348e1c4077534c910d",
       "version_major": 2,
       "version_minor": 0
      },
      "text/plain": [
       "0it [00:00, ?it/s]"
      ]
     },
     "metadata": {},
     "output_type": "display_data"
    },
    {
     "data": {
      "application/vnd.jupyter.widget-view+json": {
       "model_id": "229ef9fe56b14c84b1f335571d2e39c7",
       "version_major": 2,
       "version_minor": 0
      },
      "text/plain": [
       "0it [00:00, ?it/s]"
      ]
     },
     "metadata": {},
     "output_type": "display_data"
    }
   ],
   "source": [
    "test_X_input_ids, test_X_attn_masks = generate_training_data(comp_test, test_X_input_ids, test_X_attn_masks, tokenizer)\n",
    "test_bal_input_ids ,test_bal_attn_masks=generate_training_data(test_bal, test_bal_input_ids, test_bal_attn_masks, tokenizer)"
   ]
  },
  {
   "cell_type": "code",
   "execution_count": 396,
   "metadata": {},
   "outputs": [
    {
     "name": "stdout",
     "output_type": "stream",
     "text": [
      "(14465, 256)\n"
     ]
    },
    {
     "data": {
      "text/plain": [
       "(14465, 256)"
      ]
     },
     "execution_count": 396,
     "metadata": {},
     "output_type": "execute_result"
    }
   ],
   "source": [
    "print(X_input_ids.shape)\n",
    "X_attn_masks.shape"
   ]
  },
  {
   "cell_type": "code",
   "execution_count": 397,
   "metadata": {
    "colab": {
     "base_uri": "https://localhost:8080/"
    },
    "id": "HbuQpPy2m4mg",
    "outputId": "68111e1d-c4f6-4514-db38-43b09a27abab",
    "scrolled": true
   },
   "outputs": [
    {
     "data": {
      "text/plain": [
       "(14465, 10)"
      ]
     },
     "execution_count": 397,
     "metadata": {},
     "output_type": "execute_result"
    }
   ],
   "source": [
    "labels = np.zeros((len(df_comp), 10))\n",
    "labels.shape\n",
    "     "
   ]
  },
  {
   "cell_type": "code",
   "execution_count": 398,
   "metadata": {},
   "outputs": [
    {
     "data": {
      "text/plain": [
       "(550, 10)"
      ]
     },
     "execution_count": 398,
     "metadata": {},
     "output_type": "execute_result"
    }
   ],
   "source": [
    "test_labels = np.zeros((len(comp_test), 10))\n",
    "test_labels.shape"
   ]
  },
  {
   "cell_type": "code",
   "execution_count": 399,
   "metadata": {
    "id": "Hsen5uLPm7Jc"
   },
   "outputs": [],
   "source": [
    "labels[np.arange(len(df_comp)), df_comp['class2'].values] = 1 # one-hot encoded target tensor"
   ]
  },
  {
   "cell_type": "code",
   "execution_count": 400,
   "metadata": {
    "colab": {
     "base_uri": "https://localhost:8080/"
    },
    "id": "yZt2zQVQm_hY",
    "outputId": "c604d976-113f-488e-9b43-24a2b22c8d78",
    "scrolled": true
   },
   "outputs": [
    {
     "data": {
      "text/plain": [
       "array([[0., 0., 1., ..., 0., 0., 0.],\n",
       "       [0., 0., 1., ..., 0., 0., 0.],\n",
       "       [0., 0., 0., ..., 0., 1., 0.],\n",
       "       ...,\n",
       "       [1., 0., 0., ..., 0., 0., 0.],\n",
       "       [0., 0., 1., ..., 0., 0., 0.],\n",
       "       [0., 0., 1., ..., 0., 0., 0.]])"
      ]
     },
     "execution_count": 400,
     "metadata": {},
     "output_type": "execute_result"
    }
   ],
   "source": [
    "labels"
   ]
  },
  {
   "cell_type": "code",
   "execution_count": 401,
   "metadata": {},
   "outputs": [],
   "source": [
    "test_labels[np.arange(len(comp_test)), comp_test['class2'].values] = 1 "
   ]
  },
  {
   "cell_type": "code",
   "execution_count": 402,
   "metadata": {},
   "outputs": [
    {
     "data": {
      "text/plain": [
       "array([[1., 0., 0., ..., 0., 0., 0.],\n",
       "       [0., 0., 1., ..., 0., 0., 0.],\n",
       "       [0., 1., 0., ..., 0., 0., 0.],\n",
       "       ...,\n",
       "       [1., 0., 0., ..., 0., 0., 0.],\n",
       "       [0., 0., 0., ..., 0., 0., 1.],\n",
       "       [1., 0., 0., ..., 0., 0., 0.]])"
      ]
     },
     "execution_count": 402,
     "metadata": {},
     "output_type": "execute_result"
    }
   ],
   "source": [
    "test_labels"
   ]
  },
  {
   "cell_type": "code",
   "execution_count": 403,
   "metadata": {},
   "outputs": [],
   "source": [
    "lab=df_balanced['class1']"
   ]
  },
  {
   "cell_type": "code",
   "execution_count": 404,
   "metadata": {
    "scrolled": true
   },
   "outputs": [
    {
     "data": {
      "text/plain": [
       "(3585,)"
      ]
     },
     "execution_count": 404,
     "metadata": {},
     "output_type": "execute_result"
    }
   ],
   "source": [
    "lab.shape"
   ]
  },
  {
   "cell_type": "code",
   "execution_count": 405,
   "metadata": {},
   "outputs": [],
   "source": [
    "test_lab=test_bal['class1']"
   ]
  },
  {
   "cell_type": "code",
   "execution_count": 406,
   "metadata": {},
   "outputs": [
    {
     "data": {
      "text/plain": [
       "(950,)"
      ]
     },
     "execution_count": 406,
     "metadata": {},
     "output_type": "execute_result"
    }
   ],
   "source": [
    "test_lab.shape"
   ]
  },
  {
   "cell_type": "code",
   "execution_count": 407,
   "metadata": {
    "colab": {
     "base_uri": "https://localhost:8080/"
    },
    "id": "WPtqp2yNqClL",
    "outputId": "e3d36829-1e0d-40a7-fdeb-e6a212b4c660",
    "scrolled": true
   },
   "outputs": [
    {
     "data": {
      "text/plain": [
       "<_TakeDataset element_spec=(TensorSpec(shape=(256,), dtype=tf.float64, name=None), TensorSpec(shape=(256,), dtype=tf.float64, name=None), TensorSpec(shape=(), dtype=tf.int64, name=None))>"
      ]
     },
     "execution_count": 407,
     "metadata": {},
     "output_type": "execute_result"
    }
   ],
   "source": [
    "bal_dataset=tf.data.Dataset.from_tensor_slices((bal_input_ids, bal_attn_masks, lab))\n",
    "dataset = tf.data.Dataset.from_tensor_slices((X_input_ids, X_attn_masks, labels))\n",
    "dataset.take(1)\n",
    "bal_dataset.take(1)"
   ]
  },
  {
   "cell_type": "code",
   "execution_count": null,
   "metadata": {},
   "outputs": [],
   "source": [
    "def DatasetBalMapFunction(bal_input_ids, bal_attn_masks, lab):\n",
    "    return {\n",
    "        'input_ids': bal_input_ids,\n",
    "        'attention_mask': bal_attn_masks\n",
    "    },lab\n",
    "     \n",
    "\n",
    "# dataset = dataset.map(DatasetMapFunction) # converting to required format for tensorflow dataset \n",
    "# dataset.take(1)\n",
    "bal_dataset=bal_dataset.map(DatasetBalMapFunction)"
   ]
  },
  {
   "cell_type": "code",
   "execution_count": 409,
   "metadata": {
    "colab": {
     "base_uri": "https://localhost:8080/"
    },
    "id": "X-u3N_opqD0A",
    "outputId": "2782c2df-9de4-4c48-c0d9-41578a8d6cf2",
    "scrolled": true
   },
   "outputs": [
    {
     "data": {
      "text/plain": [
       "<_TakeDataset element_spec=({'input_ids': TensorSpec(shape=(256,), dtype=tf.float64, name=None), 'attention_mask': TensorSpec(shape=(256,), dtype=tf.float64, name=None)}, TensorSpec(shape=(10,), dtype=tf.float64, name=None))>"
      ]
     },
     "execution_count": 409,
     "metadata": {},
     "output_type": "execute_result"
    }
   ],
   "source": [
    "def DatasetMapFunction(input_ids, attn_masks, labels):\n",
    "    return {\n",
    "        'input_ids': input_ids,\n",
    "        'attention_mask': attn_masks\n",
    "    }, labels\n",
    "     \n",
    "\n",
    "dataset = dataset.map(DatasetMapFunction) # converting to required format for tensorflow dataset \n",
    "     \n",
    "\n",
    "dataset.take(1)"
   ]
  },
  {
   "cell_type": "code",
   "execution_count": 410,
   "metadata": {},
   "outputs": [
    {
     "data": {
      "text/plain": [
       "<_TakeDataset element_spec=({'input_ids': TensorSpec(shape=(16, 256), dtype=tf.float64, name=None), 'attention_mask': TensorSpec(shape=(16, 256), dtype=tf.float64, name=None)}, TensorSpec(shape=(16,), dtype=tf.int64, name=None))>"
      ]
     },
     "execution_count": 410,
     "metadata": {},
     "output_type": "execute_result"
    }
   ],
   "source": [
    "bal_dataset = bal_dataset.shuffle(100).batch(16, drop_remainder=True) # batch size, drop any left out tensor\n",
    "     \n",
    "\n",
    "bal_dataset.take(1)"
   ]
  },
  {
   "cell_type": "code",
   "execution_count": 411,
   "metadata": {
    "colab": {
     "base_uri": "https://localhost:8080/"
    },
    "id": "cSjNsQjvqJf0",
    "outputId": "5178ce8b-c0a1-47d3-9ebf-1e3102b8a40b",
    "scrolled": true
   },
   "outputs": [
    {
     "data": {
      "text/plain": [
       "<_TakeDataset element_spec=({'input_ids': TensorSpec(shape=(16, 256), dtype=tf.float64, name=None), 'attention_mask': TensorSpec(shape=(16, 256), dtype=tf.float64, name=None)}, TensorSpec(shape=(16, 10), dtype=tf.float64, name=None))>"
      ]
     },
     "execution_count": 411,
     "metadata": {},
     "output_type": "execute_result"
    }
   ],
   "source": [
    "\n",
    "dataset = dataset.shuffle(100).batch(16, drop_remainder=True) # batch size, drop any left out tensor\n",
    "     \n",
    "\n",
    "dataset.take(1)"
   ]
  },
  {
   "cell_type": "code",
   "execution_count": 412,
   "metadata": {
    "scrolled": true
   },
   "outputs": [
    {
     "data": {
      "text/plain": [
       "224"
      ]
     },
     "execution_count": 412,
     "metadata": {},
     "output_type": "execute_result"
    }
   ],
   "source": [
    "len(bal_dataset)"
   ]
  },
  {
   "cell_type": "code",
   "execution_count": 413,
   "metadata": {},
   "outputs": [
    {
     "data": {
      "text/plain": [
       "904"
      ]
     },
     "execution_count": 413,
     "metadata": {},
     "output_type": "execute_result"
    }
   ],
   "source": [
    "len(dataset)"
   ]
  },
  {
   "cell_type": "code",
   "execution_count": 414,
   "metadata": {},
   "outputs": [
    {
     "name": "stdout",
     "output_type": "stream",
     "text": [
      "224\n"
     ]
    },
    {
     "data": {
      "text/plain": [
       "179"
      ]
     },
     "execution_count": 414,
     "metadata": {},
     "output_type": "execute_result"
    }
   ],
   "source": [
    "p = 0.8\n",
    "bal_train_size = int((len(df_balanced)//16)*p) # for each 16 batch of data we will have len(df)//16 samples, take 80% of that for train.\n",
    "     \n",
    "print(len(df_balanced)//16)\n",
    "bal_train_size"
   ]
  },
  {
   "cell_type": "code",
   "execution_count": 415,
   "metadata": {},
   "outputs": [],
   "source": [
    "bal_train_dataset = bal_dataset.take(bal_train_size)\n",
    "bal_val_dataset = bal_dataset.skip(bal_train_size)"
   ]
  },
  {
   "cell_type": "code",
   "execution_count": 416,
   "metadata": {
    "colab": {
     "base_uri": "https://localhost:8080/"
    },
    "id": "sGGISlE0qMWY",
    "outputId": "47778ffd-5682-4aeb-b801-9673bdc8610b"
   },
   "outputs": [
    {
     "name": "stdout",
     "output_type": "stream",
     "text": [
      "904\n"
     ]
    },
    {
     "data": {
      "text/plain": [
       "723"
      ]
     },
     "execution_count": 416,
     "metadata": {},
     "output_type": "execute_result"
    }
   ],
   "source": [
    "p = 0.8\n",
    "train_size = int((len(df_comp)//16)*p) # for each 16 batch of data we will have len(df)//16 samples, take 80% of that for train.\n",
    "     \n",
    "print(len(df_comp)//16)\n",
    "train_size\n",
    "     "
   ]
  },
  {
   "cell_type": "code",
   "execution_count": 417,
   "metadata": {
    "id": "CdJy1RgYqQND"
   },
   "outputs": [],
   "source": [
    "train_dataset = dataset.take(train_size)\n",
    "val_dataset = dataset.skip(train_size)\n",
    "     "
   ]
  },
  {
   "cell_type": "code",
   "execution_count": 418,
   "metadata": {
    "scrolled": true
   },
   "outputs": [
    {
     "name": "stdout",
     "output_type": "stream",
     "text": [
      "<_TakeDataset element_spec=({'input_ids': TensorSpec(shape=(16, 256), dtype=tf.float64, name=None), 'attention_mask': TensorSpec(shape=(16, 256), dtype=tf.float64, name=None)}, TensorSpec(shape=(16, 10), dtype=tf.float64, name=None))>\n"
     ]
    }
   ],
   "source": [
    "print(train_dataset)"
   ]
  },
  {
   "cell_type": "code",
   "execution_count": 419,
   "metadata": {},
   "outputs": [
    {
     "name": "stdout",
     "output_type": "stream",
     "text": [
      "<_SkipDataset element_spec=({'input_ids': TensorSpec(shape=(16, 256), dtype=tf.float64, name=None), 'attention_mask': TensorSpec(shape=(16, 256), dtype=tf.float64, name=None)}, TensorSpec(shape=(16, 10), dtype=tf.float64, name=None))>\n"
     ]
    }
   ],
   "source": [
    "print(val_dataset)"
   ]
  },
  {
   "cell_type": "code",
   "execution_count": 420,
   "metadata": {
    "colab": {
     "base_uri": "https://localhost:8080/",
     "height": 186,
     "referenced_widgets": [
      "98dc550ad7d645dbb20fec67f0a2858d",
      "36f95c347ed8482589555dcc6a145e03",
      "c3087d169e864f2b98f1f9310ff97f16",
      "7471beaa00684aae84f564762eabb50b",
      "d8e02d138b2245efb90385757d2d1be8",
      "3a7780fcb0d24c31a8ab1c3ea6565345",
      "a68e9383b07c4992b2af1d51eacc82b1",
      "d373594a86d5421f99d72bef38597e28",
      "7a62d296dab94d8c8cb28fe787b806ad",
      "f4773383afe64e5eb54c06730d1b9fe8",
      "1aa26cc6f527424d98190ea562253d24"
     ]
    },
    "id": "Cd27Ax1KqTyY",
    "outputId": "1003de61-b93f-4d0d-ff09-7587e8869e12",
    "scrolled": true
   },
   "outputs": [
    {
     "name": "stderr",
     "output_type": "stream",
     "text": [
      "Some layers from the model checkpoint at bert-base-cased were not used when initializing TFBertModel: ['mlm___cls', 'nsp___cls']\n",
      "- This IS expected if you are initializing TFBertModel from the checkpoint of a model trained on another task or with another architecture (e.g. initializing a BertForSequenceClassification model from a BertForPreTraining model).\n",
      "- This IS NOT expected if you are initializing TFBertModel from the checkpoint of a model that you expect to be exactly identical (initializing a BertForSequenceClassification model from a BertForSequenceClassification model).\n",
      "All the layers of TFBertModel were initialized from the model checkpoint at bert-base-cased.\n",
      "If your task is similar to the task the model of the checkpoint was trained on, you can already use TFBertModel for predictions without further training.\n"
     ]
    }
   ],
   "source": [
    "from transformers import TFBertModel\n",
    "     \n",
    "\n",
    "model = TFBertModel.from_pretrained('bert-base-cased')"
   ]
  },
  {
   "cell_type": "code",
   "execution_count": 421,
   "metadata": {},
   "outputs": [],
   "source": [
    "input_ids = tf.keras.layers.Input(shape=(256,), name='input_ids', dtype='int32')\n",
    "attn_masks = tf.keras.layers.Input(shape=(256,), name='attention_mask', dtype='int32')\n",
    "\n",
    "bert_embds = model.bert(input_ids, attention_mask=attn_masks)[1] # 0 -> activation layer (3D), 1 -> pooled output layer (2D)\n",
    "intermediate_layer = tf.keras.layers.Dense(1024, activation='relu', name='intermediate_layer')(bert_embds)\n",
    "intermediate_layer = tf.keras.layers.Dense(512, activation='relu', name='intermediate_layer2')(intermediate_layer)\n",
    "intermediate_layer = tf.keras.layers.Dense(512, activation='relu', name='intermediate_layer3')(intermediate_layer)\n",
    "\n",
    "output_layer = tf.keras.layers.Dense(1, activation='sigmoid', name='output_layer')(intermediate_layer) # softmax -> calcs probs of classes\n",
    "\n"
   ]
  },
  {
   "cell_type": "code",
   "execution_count": 422,
   "metadata": {},
   "outputs": [
    {
     "name": "stdout",
     "output_type": "stream",
     "text": [
      "Model: \"model_11\"\n",
      "__________________________________________________________________________________________________\n",
      " Layer (type)                   Output Shape         Param #     Connected to                     \n",
      "==================================================================================================\n",
      " input_ids (InputLayer)         [(None, 256)]        0           []                               \n",
      "                                                                                                  \n",
      " attention_mask (InputLayer)    [(None, 256)]        0           []                               \n",
      "                                                                                                  \n",
      " bert (TFBertMainLayer)         TFBaseModelOutputWi  108310272   ['input_ids[0][0]',              \n",
      "                                thPoolingAndCrossAt               'attention_mask[0][0]']         \n",
      "                                tentions(last_hidde                                               \n",
      "                                n_state=(None, 256,                                               \n",
      "                                 768),                                                            \n",
      "                                 pooler_output=(Non                                               \n",
      "                                e, 768),                                                          \n",
      "                                 past_key_values=No                                               \n",
      "                                ne, hidden_states=N                                               \n",
      "                                one, attentions=Non                                               \n",
      "                                e, cross_attentions                                               \n",
      "                                =None)                                                            \n",
      "                                                                                                  \n",
      " intermediate_layer (Dense)     (None, 1024)         787456      ['bert[0][1]']                   \n",
      "                                                                                                  \n",
      " intermediate_layer2 (Dense)    (None, 512)          524800      ['intermediate_layer[0][0]']     \n",
      "                                                                                                  \n",
      " intermediate_layer3 (Dense)    (None, 512)          262656      ['intermediate_layer2[0][0]']    \n",
      "                                                                                                  \n",
      " output_layer (Dense)           (None, 1)            513         ['intermediate_layer3[0][0]']    \n",
      "                                                                                                  \n",
      "==================================================================================================\n",
      "Total params: 109,885,697\n",
      "Trainable params: 1,575,425\n",
      "Non-trainable params: 108,310,272\n",
      "__________________________________________________________________________________________________\n"
     ]
    }
   ],
   "source": [
    "binary_model = tf.keras.Model(inputs=[input_ids, attn_masks], outputs=output_layer)\n",
    "binary_model.layers [2].trainable = False\n",
    "binary_model.summary()\n"
   ]
  },
  {
   "cell_type": "code",
   "execution_count": 423,
   "metadata": {},
   "outputs": [],
   "source": [
    "Boptim = tf.keras.optimizers.legacy.Adam(learning_rate=1e-5, decay=1e-6)\n",
    "Bloss_func = tf.keras.losses.BinaryCrossentropy()\n",
    "Bacc = tf.keras.metrics.BinaryAccuracy('accuracy')\n"
   ]
  },
  {
   "cell_type": "code",
   "execution_count": 424,
   "metadata": {},
   "outputs": [],
   "source": [
    "binary_model.compile(optimizer=Boptim,\n",
    "              loss=Bloss_func,\n",
    "              metrics=Bacc)"
   ]
  },
  {
   "cell_type": "code",
   "execution_count": 425,
   "metadata": {
    "scrolled": false
   },
   "outputs": [
    {
     "name": "stdout",
     "output_type": "stream",
     "text": [
      "Epoch 1/10\n",
      "179/179 [==============================] - 123s 633ms/step - loss: 0.6040 - accuracy: 0.7032 - val_loss: 0.5575 - val_accuracy: 0.6403\n",
      "Epoch 2/10\n",
      "179/179 [==============================] - 87s 485ms/step - loss: 0.4817 - accuracy: 0.8513 - val_loss: 0.4335 - val_accuracy: 0.8764\n",
      "Epoch 3/10\n",
      "179/179 [==============================] - 84s 470ms/step - loss: 0.3600 - accuracy: 0.9155 - val_loss: 0.3157 - val_accuracy: 0.9625\n",
      "Epoch 4/10\n",
      "179/179 [==============================] - 84s 470ms/step - loss: 0.2765 - accuracy: 0.9284 - val_loss: 0.2406 - val_accuracy: 0.9639\n",
      "Epoch 5/10\n",
      "179/179 [==============================] - 83s 464ms/step - loss: 0.2229 - accuracy: 0.9424 - val_loss: 0.1928 - val_accuracy: 0.9625\n",
      "Epoch 6/10\n",
      "179/179 [==============================] - 84s 468ms/step - loss: 0.1885 - accuracy: 0.9466 - val_loss: 0.1597 - val_accuracy: 0.9708\n",
      "Epoch 7/10\n",
      "179/179 [==============================] - 86s 478ms/step - loss: 0.1693 - accuracy: 0.9448 - val_loss: 0.1368 - val_accuracy: 0.9736\n",
      "Epoch 8/10\n",
      "179/179 [==============================] - 83s 462ms/step - loss: 0.1487 - accuracy: 0.9578 - val_loss: 0.1274 - val_accuracy: 0.9708\n",
      "Epoch 9/10\n",
      "179/179 [==============================] - 83s 466ms/step - loss: 0.1330 - accuracy: 0.9588 - val_loss: 0.1101 - val_accuracy: 0.9778\n",
      "Epoch 10/10\n",
      "179/179 [==============================] - 83s 462ms/step - loss: 0.1236 - accuracy: 0.9675 - val_loss: 0.1025 - val_accuracy: 0.9778\n"
     ]
    }
   ],
   "source": [
    "hist = binary_model.fit(\n",
    "    bal_train_dataset,\n",
    "    validation_data=bal_val_dataset,\n",
    "    epochs=10\n",
    ")\n",
    "    "
   ]
  },
  {
   "cell_type": "code",
   "execution_count": null,
   "metadata": {
    "scrolled": true
   },
   "outputs": [
    {
     "name": "stderr",
     "output_type": "stream",
     "text": [
      "WARNING:absl:Found untraced functions such as embeddings_layer_call_fn, embeddings_layer_call_and_return_conditional_losses, encoder_layer_call_fn, encoder_layer_call_and_return_conditional_losses, pooler_layer_call_fn while saving (showing 5 of 420). These functions will not be directly callable after loading.\n"
     ]
    },
    {
     "name": "stdout",
     "output_type": "stream",
     "text": [
      "INFO:tensorflow:Assets written to: binary_model_97%may/assets\n"
     ]
    },
    {
     "name": "stderr",
     "output_type": "stream",
     "text": [
      "INFO:tensorflow:Assets written to: binary_model_97%may/assets\n"
     ]
    }
   ],
   "source": [
    "binary_model.save('binary_model')"
   ]
  },
  {
   "cell_type": "code",
   "execution_count": 427,
   "metadata": {},
   "outputs": [
    {
     "name": "stdout",
     "output_type": "stream",
     "text": [
      "30/30 [==============================] - 50s 1s/step - loss: 0.0965 - accuracy: 0.9789\n"
     ]
    },
    {
     "data": {
      "text/plain": [
       "[0.09645009785890579, 0.9789473414421082]"
      ]
     },
     "execution_count": 427,
     "metadata": {},
     "output_type": "execute_result"
    }
   ],
   "source": [
    "binary_model.evaluate([test_bal_input_ids ,test_bal_attn_masks],test_lab)"
   ]
  },
  {
   "cell_type": "code",
   "execution_count": 426,
   "metadata": {
    "scrolled": true
   },
   "outputs": [
    {
     "name": "stdout",
     "output_type": "stream",
     "text": [
      "30/30 [==============================] - 44s 1s/step\n"
     ]
    }
   ],
   "source": [
    "y= binary_model.predict([test_bal_input_ids ,test_bal_attn_masks])"
   ]
  },
  {
   "cell_type": "code",
   "execution_count": 429,
   "metadata": {},
   "outputs": [],
   "source": [
    "new_y = []    # create an empty list to store the new values\n",
    "\n",
    "for val in y:    # loop over each value in the original list\n",
    "    if val > 0.5:\n",
    "        new_y.append(1)    # if the value is greater than 0.5, append 1 to the new list\n",
    "    else:\n",
    "        new_y.append(0)"
   ]
  },
  {
   "cell_type": "code",
   "execution_count": 430,
   "metadata": {},
   "outputs": [
    {
     "name": "stdout",
     "output_type": "stream",
     "text": [
      "              precision    recall  f1-score   support\n",
      "\n",
      "           0       0.97      0.97      0.97       400\n",
      "           1       0.98      0.98      0.98       550\n",
      "\n",
      "    accuracy                           0.98       950\n",
      "   macro avg       0.98      0.98      0.98       950\n",
      "weighted avg       0.98      0.98      0.98       950\n",
      "\n"
     ]
    }
   ],
   "source": [
    "from sklearn.metrics import confusion_matrix, classification_report\n",
    "print(classification_report(test_lab, new_y))"
   ]
  },
  {
   "cell_type": "code",
   "execution_count": 431,
   "metadata": {
    "colab": {
     "base_uri": "https://localhost:8080/"
    },
    "id": "_GjvahcaqWfl",
    "outputId": "62d50d14-ca98-4a7b-dea5-bb50488b2b69"
   },
   "outputs": [],
   "source": [
    "input_ids = tf.keras.layers.Input(shape=(256,), name='input_ids', dtype='int32')\n",
    "attn_masks = tf.keras.layers.Input(shape=(256,), name='attention_mask', dtype='int32')\n",
    "\n",
    "bert_embds = model.bert(input_ids, attention_mask=attn_masks)[1] # 0 -> activation layer (3D), 1 -> pooled output layer (2D)\n",
    "intermediate_layer = tf.keras.layers.Dense(2048, activation='relu', name='intermediate_layer')(bert_embds)\n",
    "intermediate_layer = tf.keras.layers.Dense(1024, activation='relu', name='intermediate_layer2')(intermediate_layer)\n",
    "intermediate_layer = tf.keras.layers.Dense(1024, activation='relu', name='intermediate_layer3')(intermediate_layer)\n",
    "intermediate_layer = tf.keras.layers.Dense(512, activation='relu', name='intermediate_layer4')(intermediate_layer)\n",
    "intermediate_layer = tf.keras.layers.Dense(512, activation='relu', name='intermediate_layer5')(intermediate_layer)\n",
    "\n",
    "output_layer = tf.keras.layers.Dense(10, activation='softmax', name='output_layer')(intermediate_layer) # softmax -> calcs probs of classes"
   ]
  },
  {
   "cell_type": "code",
   "execution_count": 432,
   "metadata": {},
   "outputs": [
    {
     "name": "stdout",
     "output_type": "stream",
     "text": [
      "Model: \"model_12\"\n",
      "__________________________________________________________________________________________________\n",
      " Layer (type)                   Output Shape         Param #     Connected to                     \n",
      "==================================================================================================\n",
      " input_ids (InputLayer)         [(None, 256)]        0           []                               \n",
      "                                                                                                  \n",
      " attention_mask (InputLayer)    [(None, 256)]        0           []                               \n",
      "                                                                                                  \n",
      " bert (TFBertMainLayer)         TFBaseModelOutputWi  108310272   ['input_ids[0][0]',              \n",
      "                                thPoolingAndCrossAt               'attention_mask[0][0]']         \n",
      "                                tentions(last_hidde                                               \n",
      "                                n_state=(None, 256,                                               \n",
      "                                 768),                                                            \n",
      "                                 pooler_output=(Non                                               \n",
      "                                e, 768),                                                          \n",
      "                                 past_key_values=No                                               \n",
      "                                ne, hidden_states=N                                               \n",
      "                                one, attentions=Non                                               \n",
      "                                e, cross_attentions                                               \n",
      "                                =None)                                                            \n",
      "                                                                                                  \n",
      " intermediate_layer (Dense)     (None, 2048)         1574912     ['bert[1][1]']                   \n",
      "                                                                                                  \n",
      " intermediate_layer2 (Dense)    (None, 1024)         2098176     ['intermediate_layer[0][0]']     \n",
      "                                                                                                  \n",
      " intermediate_layer3 (Dense)    (None, 1024)         1049600     ['intermediate_layer2[0][0]']    \n",
      "                                                                                                  \n",
      " intermediate_layer4 (Dense)    (None, 512)          524800      ['intermediate_layer3[0][0]']    \n",
      "                                                                                                  \n",
      " intermediate_layer5 (Dense)    (None, 512)          262656      ['intermediate_layer4[0][0]']    \n",
      "                                                                                                  \n",
      " output_layer (Dense)           (None, 10)           5130        ['intermediate_layer5[0][0]']    \n",
      "                                                                                                  \n",
      "==================================================================================================\n",
      "Total params: 113,825,546\n",
      "Trainable params: 5,515,274\n",
      "Non-trainable params: 108,310,272\n",
      "__________________________________________________________________________________________________\n"
     ]
    }
   ],
   "source": [
    "model = tf.keras.Model(inputs=[input_ids, attn_masks], outputs=output_layer)\n",
    "model.layers [2].trainable = False\n",
    "\n",
    "model.summary()"
   ]
  },
  {
   "cell_type": "code",
   "execution_count": 433,
   "metadata": {
    "id": "mjbqlmOEqZJ8"
   },
   "outputs": [],
   "source": [
    "optim = tf.keras.optimizers.legacy.Adam(learning_rate=1e-5, decay=1e-6)\n",
    "loss_func = tf.keras.losses.CategoricalCrossentropy()\n",
    "acc = tf.keras.metrics.CategoricalAccuracy('accuracy')"
   ]
  },
  {
   "cell_type": "code",
   "execution_count": 434,
   "metadata": {
    "colab": {
     "base_uri": "https://localhost:8080/"
    },
    "id": "vSItHjAVqbuO",
    "outputId": "44396837-4461-41ce-ecfc-51ed86ad03c9",
    "scrolled": false
   },
   "outputs": [
    {
     "name": "stdout",
     "output_type": "stream",
     "text": [
      "Epoch 1/10\n",
      "723/723 [==============================] - 376s 503ms/step - loss: 1.9102 - accuracy: 0.2541 - val_loss: 1.8880 - val_accuracy: 0.2617\n",
      "Epoch 2/10\n",
      "723/723 [==============================] - 345s 477ms/step - loss: 1.8586 - accuracy: 0.2915 - val_loss: 1.8387 - val_accuracy: 0.3122\n",
      "Epoch 3/10\n",
      "723/723 [==============================] - 333s 461ms/step - loss: 1.8071 - accuracy: 0.3281 - val_loss: 1.7839 - val_accuracy: 0.3284\n",
      "Epoch 4/10\n",
      "723/723 [==============================] - 343s 474ms/step - loss: 1.7633 - accuracy: 0.3464 - val_loss: 1.7423 - val_accuracy: 0.3301\n",
      "Epoch 5/10\n",
      "723/723 [==============================] - 346s 479ms/step - loss: 1.7118 - accuracy: 0.3760 - val_loss: 1.7025 - val_accuracy: 0.3460\n",
      "Epoch 6/10\n",
      "723/723 [==============================] - 347s 479ms/step - loss: 1.6737 - accuracy: 0.3945 - val_loss: 1.6672 - val_accuracy: 0.4012\n",
      "Epoch 7/10\n",
      "723/723 [==============================] - 347s 480ms/step - loss: 1.6427 - accuracy: 0.4072 - val_loss: 1.6503 - val_accuracy: 0.3867\n",
      "Epoch 8/10\n",
      "723/723 [==============================] - 338s 467ms/step - loss: 1.6091 - accuracy: 0.4263 - val_loss: 1.5932 - val_accuracy: 0.4012\n",
      "Epoch 9/10\n",
      "723/723 [==============================] - 340s 471ms/step - loss: 1.5861 - accuracy: 0.4367 - val_loss: 1.5384 - val_accuracy: 0.4782\n",
      "Epoch 10/10\n",
      "723/723 [==============================] - 340s 470ms/step - loss: 1.5626 - accuracy: 0.4488 - val_loss: 1.5050 - val_accuracy: 0.4765\n"
     ]
    }
   ],
   "source": [
    "model.compile(optimizer=optim, loss=loss_func, metrics=[acc])\n",
    "     \n",
    "\n",
    "hist = model.fit(\n",
    "    train_dataset,\n",
    "    validation_data=val_dataset,\n",
    "    epochs=10\n",
    ")\n",
    "     \n",
    "\n"
   ]
  },
  {
   "cell_type": "code",
   "execution_count": null,
   "metadata": {
    "scrolled": true
   },
   "outputs": [
    {
     "name": "stderr",
     "output_type": "stream",
     "text": [
      "WARNING:absl:Found untraced functions such as embeddings_layer_call_fn, embeddings_layer_call_and_return_conditional_losses, encoder_layer_call_fn, encoder_layer_call_and_return_conditional_losses, pooler_layer_call_fn while saving (showing 5 of 420). These functions will not be directly callable after loading.\n"
     ]
    },
    {
     "name": "stdout",
     "output_type": "stream",
     "text": [
      "INFO:tensorflow:Assets written to: multi_class_model_2may/assets\n"
     ]
    },
    {
     "name": "stderr",
     "output_type": "stream",
     "text": [
      "INFO:tensorflow:Assets written to: multi_class_model_2may/assets\n"
     ]
    }
   ],
   "source": [
    "model.save('multi_class_model')"
   ]
  },
  {
   "cell_type": "code",
   "execution_count": 56,
   "metadata": {},
   "outputs": [],
   "source": [
    "model = tf.keras.models.load_model('multi_class_model_30april')\n",
    "\n",
    "tokenizer = BertTokenizer.from_pretrained('bert-base-cased')\n",
    "\n",
    "def prepare_data(input_text, tokenizer):\n",
    "    token = tokenizer.encode_plus(\n",
    "        input_text,\n",
    "        max_length=256, \n",
    "        truncation=True, \n",
    "        padding='max_length', \n",
    "        add_special_tokens=True,\n",
    "        return_tensors='tf'\n",
    "    )\n",
    "    return {\n",
    "        'input_ids': tf.cast(token.input_ids, tf.float64),\n",
    "        'attention_mask': tf.cast(token.attention_mask, tf.float64)\n",
    "    }\n",
    "\n",
    "def make_prediction(model, processed_data, classes=['Punctuality','Service','Cleanliness','Miscellaneous','Security','Bed Roll','Catering & Vending Services','Maintenance','Refund','Staff Behaviour']):\n",
    "    probs = model.predict(processed_data)[0]\n",
    "    return classes[np.argmax(probs)]"
   ]
  },
  {
   "cell_type": "code",
   "execution_count": 274,
   "metadata": {
    "scrolled": true
   },
   "outputs": [
    {
     "name": "stdout",
     "output_type": "stream",
     "text": [
      "Enter movie review here: input_text = input('Enter movie review here: ') processed_data = prepare_data(input_text, tokenizer) result = make_prediction(model, processed_data=processed_data) print(f\"Predicted Sentiment: {result}\")\n",
      "WARNING:tensorflow:5 out of the last 6 calls to <function Model.make_predict_function.<locals>.predict_function at 0x49b09ee60> triggered tf.function retracing. Tracing is expensive and the excessive number of tracings could be due to (1) creating @tf.function repeatedly in a loop, (2) passing tensors with different shapes, (3) passing Python objects instead of tensors. For (1), please define your @tf.function outside of the loop. For (2), @tf.function has reduce_retracing=True option that can avoid unnecessary retracing. For (3), please refer to https://www.tensorflow.org/guide/function#controlling_retracing and https://www.tensorflow.org/api_docs/python/tf/function for  more details.\n"
     ]
    },
    {
     "name": "stderr",
     "output_type": "stream",
     "text": [
      "WARNING:tensorflow:5 out of the last 6 calls to <function Model.make_predict_function.<locals>.predict_function at 0x49b09ee60> triggered tf.function retracing. Tracing is expensive and the excessive number of tracings could be due to (1) creating @tf.function repeatedly in a loop, (2) passing tensors with different shapes, (3) passing Python objects instead of tensors. For (1), please define your @tf.function outside of the loop. For (2), @tf.function has reduce_retracing=True option that can avoid unnecessary retracing. For (3), please refer to https://www.tensorflow.org/guide/function#controlling_retracing and https://www.tensorflow.org/api_docs/python/tf/function for  more details.\n"
     ]
    },
    {
     "name": "stdout",
     "output_type": "stream",
     "text": [
      "1/1 [==============================] - 7s 7s/step\n",
      "Predicted Sentiment: Service\n"
     ]
    }
   ],
   "source": [
    "input_text = input('Enter movie review here: ')\n",
    "processed_data = prepare_data(input_text, tokenizer)\n",
    "result = make_prediction(model, processed_data=processed_data)\n",
    "print(f\"Predicted Sentiment: {result}\")"
   ]
  },
  {
   "cell_type": "code",
   "execution_count": null,
   "metadata": {},
   "outputs": [],
   "source": []
  }
 ],
 "metadata": {
  "accelerator": "TPU",
  "colab": {
   "provenance": []
  },
  "gpuClass": "standard",
  "kernelspec": {
   "display_name": "Python 3 (ipykernel)",
   "language": "python",
   "name": "python3"
  },
  "language_info": {
   "codemirror_mode": {
    "name": "ipython",
    "version": 3
   },
   "file_extension": ".py",
   "mimetype": "text/x-python",
   "name": "python",
   "nbconvert_exporter": "python",
   "pygments_lexer": "ipython3",
   "version": "3.10.9"
  },
  "widgets": {
   "application/vnd.jupyter.widget-state+json": {
    "00268c1912584791ba7630588ef09240": {
     "model_module": "@jupyter-widgets/base",
     "model_module_version": "1.2.0",
     "model_name": "LayoutModel",
     "state": {
      "_model_module": "@jupyter-widgets/base",
      "_model_module_version": "1.2.0",
      "_model_name": "LayoutModel",
      "_view_count": null,
      "_view_module": "@jupyter-widgets/base",
      "_view_module_version": "1.2.0",
      "_view_name": "LayoutView",
      "align_content": null,
      "align_items": null,
      "align_self": null,
      "border": null,
      "bottom": null,
      "display": null,
      "flex": null,
      "flex_flow": null,
      "grid_area": null,
      "grid_auto_columns": null,
      "grid_auto_flow": null,
      "grid_auto_rows": null,
      "grid_column": null,
      "grid_gap": null,
      "grid_row": null,
      "grid_template_areas": null,
      "grid_template_columns": null,
      "grid_template_rows": null,
      "height": null,
      "justify_content": null,
      "justify_items": null,
      "left": null,
      "margin": null,
      "max_height": null,
      "max_width": null,
      "min_height": null,
      "min_width": null,
      "object_fit": null,
      "object_position": null,
      "order": null,
      "overflow": null,
      "overflow_x": null,
      "overflow_y": null,
      "padding": null,
      "right": null,
      "top": null,
      "visibility": null,
      "width": null
     }
    },
    "061e49b491184ed98f6adf803e3c318b": {
     "model_module": "@jupyter-widgets/controls",
     "model_module_version": "1.5.0",
     "model_name": "DescriptionStyleModel",
     "state": {
      "_model_module": "@jupyter-widgets/controls",
      "_model_module_version": "1.5.0",
      "_model_name": "DescriptionStyleModel",
      "_view_count": null,
      "_view_module": "@jupyter-widgets/base",
      "_view_module_version": "1.2.0",
      "_view_name": "StyleView",
      "description_width": ""
     }
    },
    "1a2b243e37a845c0b2222d1e40448c43": {
     "model_module": "@jupyter-widgets/base",
     "model_module_version": "1.2.0",
     "model_name": "LayoutModel",
     "state": {
      "_model_module": "@jupyter-widgets/base",
      "_model_module_version": "1.2.0",
      "_model_name": "LayoutModel",
      "_view_count": null,
      "_view_module": "@jupyter-widgets/base",
      "_view_module_version": "1.2.0",
      "_view_name": "LayoutView",
      "align_content": null,
      "align_items": null,
      "align_self": null,
      "border": null,
      "bottom": null,
      "display": null,
      "flex": null,
      "flex_flow": null,
      "grid_area": null,
      "grid_auto_columns": null,
      "grid_auto_flow": null,
      "grid_auto_rows": null,
      "grid_column": null,
      "grid_gap": null,
      "grid_row": null,
      "grid_template_areas": null,
      "grid_template_columns": null,
      "grid_template_rows": null,
      "height": null,
      "justify_content": null,
      "justify_items": null,
      "left": null,
      "margin": null,
      "max_height": null,
      "max_width": null,
      "min_height": null,
      "min_width": null,
      "object_fit": null,
      "object_position": null,
      "order": null,
      "overflow": null,
      "overflow_x": null,
      "overflow_y": null,
      "padding": null,
      "right": null,
      "top": null,
      "visibility": null,
      "width": null
     }
    },
    "1aa26cc6f527424d98190ea562253d24": {
     "model_module": "@jupyter-widgets/controls",
     "model_module_version": "1.5.0",
     "model_name": "DescriptionStyleModel",
     "state": {
      "_model_module": "@jupyter-widgets/controls",
      "_model_module_version": "1.5.0",
      "_model_name": "DescriptionStyleModel",
      "_view_count": null,
      "_view_module": "@jupyter-widgets/base",
      "_view_module_version": "1.2.0",
      "_view_name": "StyleView",
      "description_width": ""
     }
    },
    "1beed2cf377d489ab86b2e7baa417561": {
     "model_module": "@jupyter-widgets/controls",
     "model_module_version": "1.5.0",
     "model_name": "HTMLModel",
     "state": {
      "_dom_classes": [],
      "_model_module": "@jupyter-widgets/controls",
      "_model_module_version": "1.5.0",
      "_model_name": "HTMLModel",
      "_view_count": null,
      "_view_module": "@jupyter-widgets/controls",
      "_view_module_version": "1.5.0",
      "_view_name": "HTMLView",
      "description": "",
      "description_tooltip": null,
      "layout": "IPY_MODEL_ad99226e1e774811bb77585f0e05d83d",
      "placeholder": "​",
      "style": "IPY_MODEL_061e49b491184ed98f6adf803e3c318b",
      "value": " 570/570 [00:00&lt;00:00, 7.20kB/s]"
     }
    },
    "1d999983e6f743c4b5948a2fe74751f8": {
     "model_module": "@jupyter-widgets/controls",
     "model_module_version": "1.5.0",
     "model_name": "ProgressStyleModel",
     "state": {
      "_model_module": "@jupyter-widgets/controls",
      "_model_module_version": "1.5.0",
      "_model_name": "ProgressStyleModel",
      "_view_count": null,
      "_view_module": "@jupyter-widgets/base",
      "_view_module_version": "1.2.0",
      "_view_name": "StyleView",
      "bar_color": null,
      "description_width": ""
     }
    },
    "2e5b2e9d7f7748f39019489153d0ae9e": {
     "model_module": "@jupyter-widgets/controls",
     "model_module_version": "1.5.0",
     "model_name": "HTMLModel",
     "state": {
      "_dom_classes": [],
      "_model_module": "@jupyter-widgets/controls",
      "_model_module_version": "1.5.0",
      "_model_name": "HTMLModel",
      "_view_count": null,
      "_view_module": "@jupyter-widgets/controls",
      "_view_module_version": "1.5.0",
      "_view_name": "HTMLView",
      "description": "",
      "description_tooltip": null,
      "layout": "IPY_MODEL_bc2993b561f946f9ba151318958cfcfb",
      "placeholder": "​",
      "style": "IPY_MODEL_fe0f031bb0cf4a5983f6495bc5396697",
      "value": "Downloading (…)solve/main/vocab.txt: 100%"
     }
    },
    "3142d6b06b7e42a0adb30e32031a5496": {
     "model_module": "@jupyter-widgets/controls",
     "model_module_version": "1.5.0",
     "model_name": "HTMLModel",
     "state": {
      "_dom_classes": [],
      "_model_module": "@jupyter-widgets/controls",
      "_model_module_version": "1.5.0",
      "_model_name": "HTMLModel",
      "_view_count": null,
      "_view_module": "@jupyter-widgets/controls",
      "_view_module_version": "1.5.0",
      "_view_name": "HTMLView",
      "description": "",
      "description_tooltip": null,
      "layout": "IPY_MODEL_8a97a0ea90b349cda9805bf9bdf04a29",
      "placeholder": "​",
      "style": "IPY_MODEL_c6dd775743ec41e78db999123d3f0804",
      "value": " 3448/? [00:10&lt;00:00, 305.84it/s]"
     }
    },
    "337269d60e14455a886bcece527f5145": {
     "model_module": "@jupyter-widgets/controls",
     "model_module_version": "1.5.0",
     "model_name": "FloatProgressModel",
     "state": {
      "_dom_classes": [],
      "_model_module": "@jupyter-widgets/controls",
      "_model_module_version": "1.5.0",
      "_model_name": "FloatProgressModel",
      "_view_count": null,
      "_view_module": "@jupyter-widgets/controls",
      "_view_module_version": "1.5.0",
      "_view_name": "ProgressView",
      "bar_style": "success",
      "description": "",
      "description_tooltip": null,
      "layout": "IPY_MODEL_8cc2c2206155465293d35ed3750f7ced",
      "max": 570,
      "min": 0,
      "orientation": "horizontal",
      "style": "IPY_MODEL_1d999983e6f743c4b5948a2fe74751f8",
      "value": 570
     }
    },
    "35c2850dcf284810bf45f136626cf555": {
     "model_module": "@jupyter-widgets/controls",
     "model_module_version": "1.5.0",
     "model_name": "ProgressStyleModel",
     "state": {
      "_model_module": "@jupyter-widgets/controls",
      "_model_module_version": "1.5.0",
      "_model_name": "ProgressStyleModel",
      "_view_count": null,
      "_view_module": "@jupyter-widgets/base",
      "_view_module_version": "1.2.0",
      "_view_name": "StyleView",
      "bar_color": null,
      "description_width": ""
     }
    },
    "36f95c347ed8482589555dcc6a145e03": {
     "model_module": "@jupyter-widgets/controls",
     "model_module_version": "1.5.0",
     "model_name": "HTMLModel",
     "state": {
      "_dom_classes": [],
      "_model_module": "@jupyter-widgets/controls",
      "_model_module_version": "1.5.0",
      "_model_name": "HTMLModel",
      "_view_count": null,
      "_view_module": "@jupyter-widgets/controls",
      "_view_module_version": "1.5.0",
      "_view_name": "HTMLView",
      "description": "",
      "description_tooltip": null,
      "layout": "IPY_MODEL_3a7780fcb0d24c31a8ab1c3ea6565345",
      "placeholder": "​",
      "style": "IPY_MODEL_a68e9383b07c4992b2af1d51eacc82b1",
      "value": "Downloading tf_model.h5: 100%"
     }
    },
    "3a7780fcb0d24c31a8ab1c3ea6565345": {
     "model_module": "@jupyter-widgets/base",
     "model_module_version": "1.2.0",
     "model_name": "LayoutModel",
     "state": {
      "_model_module": "@jupyter-widgets/base",
      "_model_module_version": "1.2.0",
      "_model_name": "LayoutModel",
      "_view_count": null,
      "_view_module": "@jupyter-widgets/base",
      "_view_module_version": "1.2.0",
      "_view_name": "LayoutView",
      "align_content": null,
      "align_items": null,
      "align_self": null,
      "border": null,
      "bottom": null,
      "display": null,
      "flex": null,
      "flex_flow": null,
      "grid_area": null,
      "grid_auto_columns": null,
      "grid_auto_flow": null,
      "grid_auto_rows": null,
      "grid_column": null,
      "grid_gap": null,
      "grid_row": null,
      "grid_template_areas": null,
      "grid_template_columns": null,
      "grid_template_rows": null,
      "height": null,
      "justify_content": null,
      "justify_items": null,
      "left": null,
      "margin": null,
      "max_height": null,
      "max_width": null,
      "min_height": null,
      "min_width": null,
      "object_fit": null,
      "object_position": null,
      "order": null,
      "overflow": null,
      "overflow_x": null,
      "overflow_y": null,
      "padding": null,
      "right": null,
      "top": null,
      "visibility": null,
      "width": null
     }
    },
    "40cf1add88b5482796afd388cface7de": {
     "model_module": "@jupyter-widgets/base",
     "model_module_version": "1.2.0",
     "model_name": "LayoutModel",
     "state": {
      "_model_module": "@jupyter-widgets/base",
      "_model_module_version": "1.2.0",
      "_model_name": "LayoutModel",
      "_view_count": null,
      "_view_module": "@jupyter-widgets/base",
      "_view_module_version": "1.2.0",
      "_view_name": "LayoutView",
      "align_content": null,
      "align_items": null,
      "align_self": null,
      "border": null,
      "bottom": null,
      "display": null,
      "flex": null,
      "flex_flow": null,
      "grid_area": null,
      "grid_auto_columns": null,
      "grid_auto_flow": null,
      "grid_auto_rows": null,
      "grid_column": null,
      "grid_gap": null,
      "grid_row": null,
      "grid_template_areas": null,
      "grid_template_columns": null,
      "grid_template_rows": null,
      "height": null,
      "justify_content": null,
      "justify_items": null,
      "left": null,
      "margin": null,
      "max_height": null,
      "max_width": null,
      "min_height": null,
      "min_width": null,
      "object_fit": null,
      "object_position": null,
      "order": null,
      "overflow": null,
      "overflow_x": null,
      "overflow_y": null,
      "padding": null,
      "right": null,
      "top": null,
      "visibility": null,
      "width": null
     }
    },
    "46ed1b7b4c9f4f8b92e4e0b7a07de2b1": {
     "model_module": "@jupyter-widgets/controls",
     "model_module_version": "1.5.0",
     "model_name": "HTMLModel",
     "state": {
      "_dom_classes": [],
      "_model_module": "@jupyter-widgets/controls",
      "_model_module_version": "1.5.0",
      "_model_name": "HTMLModel",
      "_view_count": null,
      "_view_module": "@jupyter-widgets/controls",
      "_view_module_version": "1.5.0",
      "_view_name": "HTMLView",
      "description": "",
      "description_tooltip": null,
      "layout": "IPY_MODEL_592fcaa0be7442c59698df4cade8229f",
      "placeholder": "​",
      "style": "IPY_MODEL_aece43f7f8354cec821ffd8656e53d18",
      "value": ""
     }
    },
    "498719aeac64428cbd75dc88ead2f161": {
     "model_module": "@jupyter-widgets/controls",
     "model_module_version": "1.5.0",
     "model_name": "HTMLModel",
     "state": {
      "_dom_classes": [],
      "_model_module": "@jupyter-widgets/controls",
      "_model_module_version": "1.5.0",
      "_model_name": "HTMLModel",
      "_view_count": null,
      "_view_module": "@jupyter-widgets/controls",
      "_view_module_version": "1.5.0",
      "_view_name": "HTMLView",
      "description": "",
      "description_tooltip": null,
      "layout": "IPY_MODEL_40cf1add88b5482796afd388cface7de",
      "placeholder": "​",
      "style": "IPY_MODEL_c03985813efe47da812b65fa1e05394d",
      "value": "Downloading (…)lve/main/config.json: 100%"
     }
    },
    "4e2baf19a43042d6965f3193f0f19a1e": {
     "model_module": "@jupyter-widgets/controls",
     "model_module_version": "1.5.0",
     "model_name": "FloatProgressModel",
     "state": {
      "_dom_classes": [],
      "_model_module": "@jupyter-widgets/controls",
      "_model_module_version": "1.5.0",
      "_model_name": "FloatProgressModel",
      "_view_count": null,
      "_view_module": "@jupyter-widgets/controls",
      "_view_module_version": "1.5.0",
      "_view_name": "ProgressView",
      "bar_style": "success",
      "description": "",
      "description_tooltip": null,
      "layout": "IPY_MODEL_af7f639c215e42adba89bbf105cd9904",
      "max": 1,
      "min": 0,
      "orientation": "horizontal",
      "style": "IPY_MODEL_eb1429c60cd24b36865530e1012cb1dc",
      "value": 1
     }
    },
    "5365ef0dfecb4a2d821218b260c1308b": {
     "model_module": "@jupyter-widgets/controls",
     "model_module_version": "1.5.0",
     "model_name": "FloatProgressModel",
     "state": {
      "_dom_classes": [],
      "_model_module": "@jupyter-widgets/controls",
      "_model_module_version": "1.5.0",
      "_model_name": "FloatProgressModel",
      "_view_count": null,
      "_view_module": "@jupyter-widgets/controls",
      "_view_module_version": "1.5.0",
      "_view_name": "ProgressView",
      "bar_style": "success",
      "description": "",
      "description_tooltip": null,
      "layout": "IPY_MODEL_cda2d1aec8f74fc3ad43a9dd97821e99",
      "max": 29,
      "min": 0,
      "orientation": "horizontal",
      "style": "IPY_MODEL_bef9b2ba134047ed8d08b5f6d327f4c5",
      "value": 29
     }
    },
    "592fcaa0be7442c59698df4cade8229f": {
     "model_module": "@jupyter-widgets/base",
     "model_module_version": "1.2.0",
     "model_name": "LayoutModel",
     "state": {
      "_model_module": "@jupyter-widgets/base",
      "_model_module_version": "1.2.0",
      "_model_name": "LayoutModel",
      "_view_count": null,
      "_view_module": "@jupyter-widgets/base",
      "_view_module_version": "1.2.0",
      "_view_name": "LayoutView",
      "align_content": null,
      "align_items": null,
      "align_self": null,
      "border": null,
      "bottom": null,
      "display": null,
      "flex": null,
      "flex_flow": null,
      "grid_area": null,
      "grid_auto_columns": null,
      "grid_auto_flow": null,
      "grid_auto_rows": null,
      "grid_column": null,
      "grid_gap": null,
      "grid_row": null,
      "grid_template_areas": null,
      "grid_template_columns": null,
      "grid_template_rows": null,
      "height": null,
      "justify_content": null,
      "justify_items": null,
      "left": null,
      "margin": null,
      "max_height": null,
      "max_width": null,
      "min_height": null,
      "min_width": null,
      "object_fit": null,
      "object_position": null,
      "order": null,
      "overflow": null,
      "overflow_x": null,
      "overflow_y": null,
      "padding": null,
      "right": null,
      "top": null,
      "visibility": null,
      "width": null
     }
    },
    "5ebf1b9671a14920a9baff3ecdf6f781": {
     "model_module": "@jupyter-widgets/base",
     "model_module_version": "1.2.0",
     "model_name": "LayoutModel",
     "state": {
      "_model_module": "@jupyter-widgets/base",
      "_model_module_version": "1.2.0",
      "_model_name": "LayoutModel",
      "_view_count": null,
      "_view_module": "@jupyter-widgets/base",
      "_view_module_version": "1.2.0",
      "_view_name": "LayoutView",
      "align_content": null,
      "align_items": null,
      "align_self": null,
      "border": null,
      "bottom": null,
      "display": null,
      "flex": null,
      "flex_flow": null,
      "grid_area": null,
      "grid_auto_columns": null,
      "grid_auto_flow": null,
      "grid_auto_rows": null,
      "grid_column": null,
      "grid_gap": null,
      "grid_row": null,
      "grid_template_areas": null,
      "grid_template_columns": null,
      "grid_template_rows": null,
      "height": null,
      "justify_content": null,
      "justify_items": null,
      "left": null,
      "margin": null,
      "max_height": null,
      "max_width": null,
      "min_height": null,
      "min_width": null,
      "object_fit": null,
      "object_position": null,
      "order": null,
      "overflow": null,
      "overflow_x": null,
      "overflow_y": null,
      "padding": null,
      "right": null,
      "top": null,
      "visibility": null,
      "width": null
     }
    },
    "61024c09df594b79a52851668f153fff": {
     "model_module": "@jupyter-widgets/base",
     "model_module_version": "1.2.0",
     "model_name": "LayoutModel",
     "state": {
      "_model_module": "@jupyter-widgets/base",
      "_model_module_version": "1.2.0",
      "_model_name": "LayoutModel",
      "_view_count": null,
      "_view_module": "@jupyter-widgets/base",
      "_view_module_version": "1.2.0",
      "_view_name": "LayoutView",
      "align_content": null,
      "align_items": null,
      "align_self": null,
      "border": null,
      "bottom": null,
      "display": null,
      "flex": null,
      "flex_flow": null,
      "grid_area": null,
      "grid_auto_columns": null,
      "grid_auto_flow": null,
      "grid_auto_rows": null,
      "grid_column": null,
      "grid_gap": null,
      "grid_row": null,
      "grid_template_areas": null,
      "grid_template_columns": null,
      "grid_template_rows": null,
      "height": null,
      "justify_content": null,
      "justify_items": null,
      "left": null,
      "margin": null,
      "max_height": null,
      "max_width": null,
      "min_height": null,
      "min_width": null,
      "object_fit": null,
      "object_position": null,
      "order": null,
      "overflow": null,
      "overflow_x": null,
      "overflow_y": null,
      "padding": null,
      "right": null,
      "top": null,
      "visibility": null,
      "width": null
     }
    },
    "61dce4ce20ef4495b862ea09d4e9a29a": {
     "model_module": "@jupyter-widgets/base",
     "model_module_version": "1.2.0",
     "model_name": "LayoutModel",
     "state": {
      "_model_module": "@jupyter-widgets/base",
      "_model_module_version": "1.2.0",
      "_model_name": "LayoutModel",
      "_view_count": null,
      "_view_module": "@jupyter-widgets/base",
      "_view_module_version": "1.2.0",
      "_view_name": "LayoutView",
      "align_content": null,
      "align_items": null,
      "align_self": null,
      "border": null,
      "bottom": null,
      "display": null,
      "flex": null,
      "flex_flow": null,
      "grid_area": null,
      "grid_auto_columns": null,
      "grid_auto_flow": null,
      "grid_auto_rows": null,
      "grid_column": null,
      "grid_gap": null,
      "grid_row": null,
      "grid_template_areas": null,
      "grid_template_columns": null,
      "grid_template_rows": null,
      "height": null,
      "justify_content": null,
      "justify_items": null,
      "left": null,
      "margin": null,
      "max_height": null,
      "max_width": null,
      "min_height": null,
      "min_width": null,
      "object_fit": null,
      "object_position": null,
      "order": null,
      "overflow": null,
      "overflow_x": null,
      "overflow_y": null,
      "padding": null,
      "right": null,
      "top": null,
      "visibility": null,
      "width": null
     }
    },
    "7167fdd0ba59483eb69e0f75dd7c12f8": {
     "model_module": "@jupyter-widgets/controls",
     "model_module_version": "1.5.0",
     "model_name": "HBoxModel",
     "state": {
      "_dom_classes": [],
      "_model_module": "@jupyter-widgets/controls",
      "_model_module_version": "1.5.0",
      "_model_name": "HBoxModel",
      "_view_count": null,
      "_view_module": "@jupyter-widgets/controls",
      "_view_module_version": "1.5.0",
      "_view_name": "HBoxView",
      "box_style": "",
      "children": [
       "IPY_MODEL_71c61e3aec0846b5a522029b6c187e21",
       "IPY_MODEL_5365ef0dfecb4a2d821218b260c1308b",
       "IPY_MODEL_eb11c58f33d34d2c89c8d3264eb51844"
      ],
      "layout": "IPY_MODEL_ea2d523f220342e693da05f823b4517d"
     }
    },
    "71c61e3aec0846b5a522029b6c187e21": {
     "model_module": "@jupyter-widgets/controls",
     "model_module_version": "1.5.0",
     "model_name": "HTMLModel",
     "state": {
      "_dom_classes": [],
      "_model_module": "@jupyter-widgets/controls",
      "_model_module_version": "1.5.0",
      "_model_name": "HTMLModel",
      "_view_count": null,
      "_view_module": "@jupyter-widgets/controls",
      "_view_module_version": "1.5.0",
      "_view_name": "HTMLView",
      "description": "",
      "description_tooltip": null,
      "layout": "IPY_MODEL_ea0825e5775c42b198c16a64a931b89a",
      "placeholder": "​",
      "style": "IPY_MODEL_a2f174b09f22452394bb90542334db79",
      "value": "Downloading (…)okenizer_config.json: 100%"
     }
    },
    "7471beaa00684aae84f564762eabb50b": {
     "model_module": "@jupyter-widgets/controls",
     "model_module_version": "1.5.0",
     "model_name": "HTMLModel",
     "state": {
      "_dom_classes": [],
      "_model_module": "@jupyter-widgets/controls",
      "_model_module_version": "1.5.0",
      "_model_name": "HTMLModel",
      "_view_count": null,
      "_view_module": "@jupyter-widgets/controls",
      "_view_module_version": "1.5.0",
      "_view_name": "HTMLView",
      "description": "",
      "description_tooltip": null,
      "layout": "IPY_MODEL_f4773383afe64e5eb54c06730d1b9fe8",
      "placeholder": "​",
      "style": "IPY_MODEL_1aa26cc6f527424d98190ea562253d24",
      "value": " 527M/527M [00:06&lt;00:00, 84.4MB/s]"
     }
    },
    "7a62d296dab94d8c8cb28fe787b806ad": {
     "model_module": "@jupyter-widgets/controls",
     "model_module_version": "1.5.0",
     "model_name": "ProgressStyleModel",
     "state": {
      "_model_module": "@jupyter-widgets/controls",
      "_model_module_version": "1.5.0",
      "_model_name": "ProgressStyleModel",
      "_view_count": null,
      "_view_module": "@jupyter-widgets/base",
      "_view_module_version": "1.2.0",
      "_view_name": "StyleView",
      "bar_color": null,
      "description_width": ""
     }
    },
    "827a06a82f434299943e9bc5edd90a6d": {
     "model_module": "@jupyter-widgets/controls",
     "model_module_version": "1.5.0",
     "model_name": "HBoxModel",
     "state": {
      "_dom_classes": [],
      "_model_module": "@jupyter-widgets/controls",
      "_model_module_version": "1.5.0",
      "_model_name": "HBoxModel",
      "_view_count": null,
      "_view_module": "@jupyter-widgets/controls",
      "_view_module_version": "1.5.0",
      "_view_name": "HBoxView",
      "box_style": "",
      "children": [
       "IPY_MODEL_498719aeac64428cbd75dc88ead2f161",
       "IPY_MODEL_337269d60e14455a886bcece527f5145",
       "IPY_MODEL_1beed2cf377d489ab86b2e7baa417561"
      ],
      "layout": "IPY_MODEL_5ebf1b9671a14920a9baff3ecdf6f781"
     }
    },
    "8a97a0ea90b349cda9805bf9bdf04a29": {
     "model_module": "@jupyter-widgets/base",
     "model_module_version": "1.2.0",
     "model_name": "LayoutModel",
     "state": {
      "_model_module": "@jupyter-widgets/base",
      "_model_module_version": "1.2.0",
      "_model_name": "LayoutModel",
      "_view_count": null,
      "_view_module": "@jupyter-widgets/base",
      "_view_module_version": "1.2.0",
      "_view_name": "LayoutView",
      "align_content": null,
      "align_items": null,
      "align_self": null,
      "border": null,
      "bottom": null,
      "display": null,
      "flex": null,
      "flex_flow": null,
      "grid_area": null,
      "grid_auto_columns": null,
      "grid_auto_flow": null,
      "grid_auto_rows": null,
      "grid_column": null,
      "grid_gap": null,
      "grid_row": null,
      "grid_template_areas": null,
      "grid_template_columns": null,
      "grid_template_rows": null,
      "height": null,
      "justify_content": null,
      "justify_items": null,
      "left": null,
      "margin": null,
      "max_height": null,
      "max_width": null,
      "min_height": null,
      "min_width": null,
      "object_fit": null,
      "object_position": null,
      "order": null,
      "overflow": null,
      "overflow_x": null,
      "overflow_y": null,
      "padding": null,
      "right": null,
      "top": null,
      "visibility": null,
      "width": null
     }
    },
    "8cc2c2206155465293d35ed3750f7ced": {
     "model_module": "@jupyter-widgets/base",
     "model_module_version": "1.2.0",
     "model_name": "LayoutModel",
     "state": {
      "_model_module": "@jupyter-widgets/base",
      "_model_module_version": "1.2.0",
      "_model_name": "LayoutModel",
      "_view_count": null,
      "_view_module": "@jupyter-widgets/base",
      "_view_module_version": "1.2.0",
      "_view_name": "LayoutView",
      "align_content": null,
      "align_items": null,
      "align_self": null,
      "border": null,
      "bottom": null,
      "display": null,
      "flex": null,
      "flex_flow": null,
      "grid_area": null,
      "grid_auto_columns": null,
      "grid_auto_flow": null,
      "grid_auto_rows": null,
      "grid_column": null,
      "grid_gap": null,
      "grid_row": null,
      "grid_template_areas": null,
      "grid_template_columns": null,
      "grid_template_rows": null,
      "height": null,
      "justify_content": null,
      "justify_items": null,
      "left": null,
      "margin": null,
      "max_height": null,
      "max_width": null,
      "min_height": null,
      "min_width": null,
      "object_fit": null,
      "object_position": null,
      "order": null,
      "overflow": null,
      "overflow_x": null,
      "overflow_y": null,
      "padding": null,
      "right": null,
      "top": null,
      "visibility": null,
      "width": null
     }
    },
    "92dcbd1f1023455c82bc30e6462d25f5": {
     "model_module": "@jupyter-widgets/controls",
     "model_module_version": "1.5.0",
     "model_name": "HBoxModel",
     "state": {
      "_dom_classes": [],
      "_model_module": "@jupyter-widgets/controls",
      "_model_module_version": "1.5.0",
      "_model_name": "HBoxModel",
      "_view_count": null,
      "_view_module": "@jupyter-widgets/controls",
      "_view_module_version": "1.5.0",
      "_view_name": "HBoxView",
      "box_style": "",
      "children": [
       "IPY_MODEL_2e5b2e9d7f7748f39019489153d0ae9e",
       "IPY_MODEL_ce5a9d5627014739aea95182bc501c0e",
       "IPY_MODEL_cbd9dbc41095496498d77158899d9484"
      ],
      "layout": "IPY_MODEL_1a2b243e37a845c0b2222d1e40448c43"
     }
    },
    "98dc550ad7d645dbb20fec67f0a2858d": {
     "model_module": "@jupyter-widgets/controls",
     "model_module_version": "1.5.0",
     "model_name": "HBoxModel",
     "state": {
      "_dom_classes": [],
      "_model_module": "@jupyter-widgets/controls",
      "_model_module_version": "1.5.0",
      "_model_name": "HBoxModel",
      "_view_count": null,
      "_view_module": "@jupyter-widgets/controls",
      "_view_module_version": "1.5.0",
      "_view_name": "HBoxView",
      "box_style": "",
      "children": [
       "IPY_MODEL_36f95c347ed8482589555dcc6a145e03",
       "IPY_MODEL_c3087d169e864f2b98f1f9310ff97f16",
       "IPY_MODEL_7471beaa00684aae84f564762eabb50b"
      ],
      "layout": "IPY_MODEL_d8e02d138b2245efb90385757d2d1be8"
     }
    },
    "a2f174b09f22452394bb90542334db79": {
     "model_module": "@jupyter-widgets/controls",
     "model_module_version": "1.5.0",
     "model_name": "DescriptionStyleModel",
     "state": {
      "_model_module": "@jupyter-widgets/controls",
      "_model_module_version": "1.5.0",
      "_model_name": "DescriptionStyleModel",
      "_view_count": null,
      "_view_module": "@jupyter-widgets/base",
      "_view_module_version": "1.2.0",
      "_view_name": "StyleView",
      "description_width": ""
     }
    },
    "a68e9383b07c4992b2af1d51eacc82b1": {
     "model_module": "@jupyter-widgets/controls",
     "model_module_version": "1.5.0",
     "model_name": "DescriptionStyleModel",
     "state": {
      "_model_module": "@jupyter-widgets/controls",
      "_model_module_version": "1.5.0",
      "_model_name": "DescriptionStyleModel",
      "_view_count": null,
      "_view_module": "@jupyter-widgets/base",
      "_view_module_version": "1.2.0",
      "_view_name": "StyleView",
      "description_width": ""
     }
    },
    "ad99226e1e774811bb77585f0e05d83d": {
     "model_module": "@jupyter-widgets/base",
     "model_module_version": "1.2.0",
     "model_name": "LayoutModel",
     "state": {
      "_model_module": "@jupyter-widgets/base",
      "_model_module_version": "1.2.0",
      "_model_name": "LayoutModel",
      "_view_count": null,
      "_view_module": "@jupyter-widgets/base",
      "_view_module_version": "1.2.0",
      "_view_name": "LayoutView",
      "align_content": null,
      "align_items": null,
      "align_self": null,
      "border": null,
      "bottom": null,
      "display": null,
      "flex": null,
      "flex_flow": null,
      "grid_area": null,
      "grid_auto_columns": null,
      "grid_auto_flow": null,
      "grid_auto_rows": null,
      "grid_column": null,
      "grid_gap": null,
      "grid_row": null,
      "grid_template_areas": null,
      "grid_template_columns": null,
      "grid_template_rows": null,
      "height": null,
      "justify_content": null,
      "justify_items": null,
      "left": null,
      "margin": null,
      "max_height": null,
      "max_width": null,
      "min_height": null,
      "min_width": null,
      "object_fit": null,
      "object_position": null,
      "order": null,
      "overflow": null,
      "overflow_x": null,
      "overflow_y": null,
      "padding": null,
      "right": null,
      "top": null,
      "visibility": null,
      "width": null
     }
    },
    "aece43f7f8354cec821ffd8656e53d18": {
     "model_module": "@jupyter-widgets/controls",
     "model_module_version": "1.5.0",
     "model_name": "DescriptionStyleModel",
     "state": {
      "_model_module": "@jupyter-widgets/controls",
      "_model_module_version": "1.5.0",
      "_model_name": "DescriptionStyleModel",
      "_view_count": null,
      "_view_module": "@jupyter-widgets/base",
      "_view_module_version": "1.2.0",
      "_view_name": "StyleView",
      "description_width": ""
     }
    },
    "af7f639c215e42adba89bbf105cd9904": {
     "model_module": "@jupyter-widgets/base",
     "model_module_version": "1.2.0",
     "model_name": "LayoutModel",
     "state": {
      "_model_module": "@jupyter-widgets/base",
      "_model_module_version": "1.2.0",
      "_model_name": "LayoutModel",
      "_view_count": null,
      "_view_module": "@jupyter-widgets/base",
      "_view_module_version": "1.2.0",
      "_view_name": "LayoutView",
      "align_content": null,
      "align_items": null,
      "align_self": null,
      "border": null,
      "bottom": null,
      "display": null,
      "flex": null,
      "flex_flow": null,
      "grid_area": null,
      "grid_auto_columns": null,
      "grid_auto_flow": null,
      "grid_auto_rows": null,
      "grid_column": null,
      "grid_gap": null,
      "grid_row": null,
      "grid_template_areas": null,
      "grid_template_columns": null,
      "grid_template_rows": null,
      "height": null,
      "justify_content": null,
      "justify_items": null,
      "left": null,
      "margin": null,
      "max_height": null,
      "max_width": null,
      "min_height": null,
      "min_width": null,
      "object_fit": null,
      "object_position": null,
      "order": null,
      "overflow": null,
      "overflow_x": null,
      "overflow_y": null,
      "padding": null,
      "right": null,
      "top": null,
      "visibility": null,
      "width": "20px"
     }
    },
    "b3de2ecf011943a4b7b8b1f946abd447": {
     "model_module": "@jupyter-widgets/base",
     "model_module_version": "1.2.0",
     "model_name": "LayoutModel",
     "state": {
      "_model_module": "@jupyter-widgets/base",
      "_model_module_version": "1.2.0",
      "_model_name": "LayoutModel",
      "_view_count": null,
      "_view_module": "@jupyter-widgets/base",
      "_view_module_version": "1.2.0",
      "_view_name": "LayoutView",
      "align_content": null,
      "align_items": null,
      "align_self": null,
      "border": null,
      "bottom": null,
      "display": null,
      "flex": null,
      "flex_flow": null,
      "grid_area": null,
      "grid_auto_columns": null,
      "grid_auto_flow": null,
      "grid_auto_rows": null,
      "grid_column": null,
      "grid_gap": null,
      "grid_row": null,
      "grid_template_areas": null,
      "grid_template_columns": null,
      "grid_template_rows": null,
      "height": null,
      "justify_content": null,
      "justify_items": null,
      "left": null,
      "margin": null,
      "max_height": null,
      "max_width": null,
      "min_height": null,
      "min_width": null,
      "object_fit": null,
      "object_position": null,
      "order": null,
      "overflow": null,
      "overflow_x": null,
      "overflow_y": null,
      "padding": null,
      "right": null,
      "top": null,
      "visibility": null,
      "width": null
     }
    },
    "bc2993b561f946f9ba151318958cfcfb": {
     "model_module": "@jupyter-widgets/base",
     "model_module_version": "1.2.0",
     "model_name": "LayoutModel",
     "state": {
      "_model_module": "@jupyter-widgets/base",
      "_model_module_version": "1.2.0",
      "_model_name": "LayoutModel",
      "_view_count": null,
      "_view_module": "@jupyter-widgets/base",
      "_view_module_version": "1.2.0",
      "_view_name": "LayoutView",
      "align_content": null,
      "align_items": null,
      "align_self": null,
      "border": null,
      "bottom": null,
      "display": null,
      "flex": null,
      "flex_flow": null,
      "grid_area": null,
      "grid_auto_columns": null,
      "grid_auto_flow": null,
      "grid_auto_rows": null,
      "grid_column": null,
      "grid_gap": null,
      "grid_row": null,
      "grid_template_areas": null,
      "grid_template_columns": null,
      "grid_template_rows": null,
      "height": null,
      "justify_content": null,
      "justify_items": null,
      "left": null,
      "margin": null,
      "max_height": null,
      "max_width": null,
      "min_height": null,
      "min_width": null,
      "object_fit": null,
      "object_position": null,
      "order": null,
      "overflow": null,
      "overflow_x": null,
      "overflow_y": null,
      "padding": null,
      "right": null,
      "top": null,
      "visibility": null,
      "width": null
     }
    },
    "bef9b2ba134047ed8d08b5f6d327f4c5": {
     "model_module": "@jupyter-widgets/controls",
     "model_module_version": "1.5.0",
     "model_name": "ProgressStyleModel",
     "state": {
      "_model_module": "@jupyter-widgets/controls",
      "_model_module_version": "1.5.0",
      "_model_name": "ProgressStyleModel",
      "_view_count": null,
      "_view_module": "@jupyter-widgets/base",
      "_view_module_version": "1.2.0",
      "_view_name": "StyleView",
      "bar_color": null,
      "description_width": ""
     }
    },
    "c03985813efe47da812b65fa1e05394d": {
     "model_module": "@jupyter-widgets/controls",
     "model_module_version": "1.5.0",
     "model_name": "DescriptionStyleModel",
     "state": {
      "_model_module": "@jupyter-widgets/controls",
      "_model_module_version": "1.5.0",
      "_model_name": "DescriptionStyleModel",
      "_view_count": null,
      "_view_module": "@jupyter-widgets/base",
      "_view_module_version": "1.2.0",
      "_view_name": "StyleView",
      "description_width": ""
     }
    },
    "c3087d169e864f2b98f1f9310ff97f16": {
     "model_module": "@jupyter-widgets/controls",
     "model_module_version": "1.5.0",
     "model_name": "FloatProgressModel",
     "state": {
      "_dom_classes": [],
      "_model_module": "@jupyter-widgets/controls",
      "_model_module_version": "1.5.0",
      "_model_name": "FloatProgressModel",
      "_view_count": null,
      "_view_module": "@jupyter-widgets/controls",
      "_view_module_version": "1.5.0",
      "_view_name": "ProgressView",
      "bar_style": "success",
      "description": "",
      "description_tooltip": null,
      "layout": "IPY_MODEL_d373594a86d5421f99d72bef38597e28",
      "max": 526681800,
      "min": 0,
      "orientation": "horizontal",
      "style": "IPY_MODEL_7a62d296dab94d8c8cb28fe787b806ad",
      "value": 526681800
     }
    },
    "c6dd775743ec41e78db999123d3f0804": {
     "model_module": "@jupyter-widgets/controls",
     "model_module_version": "1.5.0",
     "model_name": "DescriptionStyleModel",
     "state": {
      "_model_module": "@jupyter-widgets/controls",
      "_model_module_version": "1.5.0",
      "_model_name": "DescriptionStyleModel",
      "_view_count": null,
      "_view_module": "@jupyter-widgets/base",
      "_view_module_version": "1.2.0",
      "_view_name": "StyleView",
      "description_width": ""
     }
    },
    "c7985d8a4415417bbfce8a6349d37812": {
     "model_module": "@jupyter-widgets/controls",
     "model_module_version": "1.5.0",
     "model_name": "HBoxModel",
     "state": {
      "_dom_classes": [],
      "_model_module": "@jupyter-widgets/controls",
      "_model_module_version": "1.5.0",
      "_model_name": "HBoxModel",
      "_view_count": null,
      "_view_module": "@jupyter-widgets/controls",
      "_view_module_version": "1.5.0",
      "_view_name": "HBoxView",
      "box_style": "",
      "children": [
       "IPY_MODEL_46ed1b7b4c9f4f8b92e4e0b7a07de2b1",
       "IPY_MODEL_4e2baf19a43042d6965f3193f0f19a1e",
       "IPY_MODEL_3142d6b06b7e42a0adb30e32031a5496"
      ],
      "layout": "IPY_MODEL_00268c1912584791ba7630588ef09240"
     }
    },
    "cbd9dbc41095496498d77158899d9484": {
     "model_module": "@jupyter-widgets/controls",
     "model_module_version": "1.5.0",
     "model_name": "HTMLModel",
     "state": {
      "_dom_classes": [],
      "_model_module": "@jupyter-widgets/controls",
      "_model_module_version": "1.5.0",
      "_model_name": "HTMLModel",
      "_view_count": null,
      "_view_module": "@jupyter-widgets/controls",
      "_view_module_version": "1.5.0",
      "_view_name": "HTMLView",
      "description": "",
      "description_tooltip": null,
      "layout": "IPY_MODEL_b3de2ecf011943a4b7b8b1f946abd447",
      "placeholder": "​",
      "style": "IPY_MODEL_cd6a3bf1c89a40c1bb62cef75b3c12ce",
      "value": " 213k/213k [00:00&lt;00:00, 1.59MB/s]"
     }
    },
    "cd6a3bf1c89a40c1bb62cef75b3c12ce": {
     "model_module": "@jupyter-widgets/controls",
     "model_module_version": "1.5.0",
     "model_name": "DescriptionStyleModel",
     "state": {
      "_model_module": "@jupyter-widgets/controls",
      "_model_module_version": "1.5.0",
      "_model_name": "DescriptionStyleModel",
      "_view_count": null,
      "_view_module": "@jupyter-widgets/base",
      "_view_module_version": "1.2.0",
      "_view_name": "StyleView",
      "description_width": ""
     }
    },
    "cda2d1aec8f74fc3ad43a9dd97821e99": {
     "model_module": "@jupyter-widgets/base",
     "model_module_version": "1.2.0",
     "model_name": "LayoutModel",
     "state": {
      "_model_module": "@jupyter-widgets/base",
      "_model_module_version": "1.2.0",
      "_model_name": "LayoutModel",
      "_view_count": null,
      "_view_module": "@jupyter-widgets/base",
      "_view_module_version": "1.2.0",
      "_view_name": "LayoutView",
      "align_content": null,
      "align_items": null,
      "align_self": null,
      "border": null,
      "bottom": null,
      "display": null,
      "flex": null,
      "flex_flow": null,
      "grid_area": null,
      "grid_auto_columns": null,
      "grid_auto_flow": null,
      "grid_auto_rows": null,
      "grid_column": null,
      "grid_gap": null,
      "grid_row": null,
      "grid_template_areas": null,
      "grid_template_columns": null,
      "grid_template_rows": null,
      "height": null,
      "justify_content": null,
      "justify_items": null,
      "left": null,
      "margin": null,
      "max_height": null,
      "max_width": null,
      "min_height": null,
      "min_width": null,
      "object_fit": null,
      "object_position": null,
      "order": null,
      "overflow": null,
      "overflow_x": null,
      "overflow_y": null,
      "padding": null,
      "right": null,
      "top": null,
      "visibility": null,
      "width": null
     }
    },
    "ce5a9d5627014739aea95182bc501c0e": {
     "model_module": "@jupyter-widgets/controls",
     "model_module_version": "1.5.0",
     "model_name": "FloatProgressModel",
     "state": {
      "_dom_classes": [],
      "_model_module": "@jupyter-widgets/controls",
      "_model_module_version": "1.5.0",
      "_model_name": "FloatProgressModel",
      "_view_count": null,
      "_view_module": "@jupyter-widgets/controls",
      "_view_module_version": "1.5.0",
      "_view_name": "ProgressView",
      "bar_style": "success",
      "description": "",
      "description_tooltip": null,
      "layout": "IPY_MODEL_61024c09df594b79a52851668f153fff",
      "max": 213450,
      "min": 0,
      "orientation": "horizontal",
      "style": "IPY_MODEL_35c2850dcf284810bf45f136626cf555",
      "value": 213450
     }
    },
    "d373594a86d5421f99d72bef38597e28": {
     "model_module": "@jupyter-widgets/base",
     "model_module_version": "1.2.0",
     "model_name": "LayoutModel",
     "state": {
      "_model_module": "@jupyter-widgets/base",
      "_model_module_version": "1.2.0",
      "_model_name": "LayoutModel",
      "_view_count": null,
      "_view_module": "@jupyter-widgets/base",
      "_view_module_version": "1.2.0",
      "_view_name": "LayoutView",
      "align_content": null,
      "align_items": null,
      "align_self": null,
      "border": null,
      "bottom": null,
      "display": null,
      "flex": null,
      "flex_flow": null,
      "grid_area": null,
      "grid_auto_columns": null,
      "grid_auto_flow": null,
      "grid_auto_rows": null,
      "grid_column": null,
      "grid_gap": null,
      "grid_row": null,
      "grid_template_areas": null,
      "grid_template_columns": null,
      "grid_template_rows": null,
      "height": null,
      "justify_content": null,
      "justify_items": null,
      "left": null,
      "margin": null,
      "max_height": null,
      "max_width": null,
      "min_height": null,
      "min_width": null,
      "object_fit": null,
      "object_position": null,
      "order": null,
      "overflow": null,
      "overflow_x": null,
      "overflow_y": null,
      "padding": null,
      "right": null,
      "top": null,
      "visibility": null,
      "width": null
     }
    },
    "d8e02d138b2245efb90385757d2d1be8": {
     "model_module": "@jupyter-widgets/base",
     "model_module_version": "1.2.0",
     "model_name": "LayoutModel",
     "state": {
      "_model_module": "@jupyter-widgets/base",
      "_model_module_version": "1.2.0",
      "_model_name": "LayoutModel",
      "_view_count": null,
      "_view_module": "@jupyter-widgets/base",
      "_view_module_version": "1.2.0",
      "_view_name": "LayoutView",
      "align_content": null,
      "align_items": null,
      "align_self": null,
      "border": null,
      "bottom": null,
      "display": null,
      "flex": null,
      "flex_flow": null,
      "grid_area": null,
      "grid_auto_columns": null,
      "grid_auto_flow": null,
      "grid_auto_rows": null,
      "grid_column": null,
      "grid_gap": null,
      "grid_row": null,
      "grid_template_areas": null,
      "grid_template_columns": null,
      "grid_template_rows": null,
      "height": null,
      "justify_content": null,
      "justify_items": null,
      "left": null,
      "margin": null,
      "max_height": null,
      "max_width": null,
      "min_height": null,
      "min_width": null,
      "object_fit": null,
      "object_position": null,
      "order": null,
      "overflow": null,
      "overflow_x": null,
      "overflow_y": null,
      "padding": null,
      "right": null,
      "top": null,
      "visibility": null,
      "width": null
     }
    },
    "ea0825e5775c42b198c16a64a931b89a": {
     "model_module": "@jupyter-widgets/base",
     "model_module_version": "1.2.0",
     "model_name": "LayoutModel",
     "state": {
      "_model_module": "@jupyter-widgets/base",
      "_model_module_version": "1.2.0",
      "_model_name": "LayoutModel",
      "_view_count": null,
      "_view_module": "@jupyter-widgets/base",
      "_view_module_version": "1.2.0",
      "_view_name": "LayoutView",
      "align_content": null,
      "align_items": null,
      "align_self": null,
      "border": null,
      "bottom": null,
      "display": null,
      "flex": null,
      "flex_flow": null,
      "grid_area": null,
      "grid_auto_columns": null,
      "grid_auto_flow": null,
      "grid_auto_rows": null,
      "grid_column": null,
      "grid_gap": null,
      "grid_row": null,
      "grid_template_areas": null,
      "grid_template_columns": null,
      "grid_template_rows": null,
      "height": null,
      "justify_content": null,
      "justify_items": null,
      "left": null,
      "margin": null,
      "max_height": null,
      "max_width": null,
      "min_height": null,
      "min_width": null,
      "object_fit": null,
      "object_position": null,
      "order": null,
      "overflow": null,
      "overflow_x": null,
      "overflow_y": null,
      "padding": null,
      "right": null,
      "top": null,
      "visibility": null,
      "width": null
     }
    },
    "ea2d523f220342e693da05f823b4517d": {
     "model_module": "@jupyter-widgets/base",
     "model_module_version": "1.2.0",
     "model_name": "LayoutModel",
     "state": {
      "_model_module": "@jupyter-widgets/base",
      "_model_module_version": "1.2.0",
      "_model_name": "LayoutModel",
      "_view_count": null,
      "_view_module": "@jupyter-widgets/base",
      "_view_module_version": "1.2.0",
      "_view_name": "LayoutView",
      "align_content": null,
      "align_items": null,
      "align_self": null,
      "border": null,
      "bottom": null,
      "display": null,
      "flex": null,
      "flex_flow": null,
      "grid_area": null,
      "grid_auto_columns": null,
      "grid_auto_flow": null,
      "grid_auto_rows": null,
      "grid_column": null,
      "grid_gap": null,
      "grid_row": null,
      "grid_template_areas": null,
      "grid_template_columns": null,
      "grid_template_rows": null,
      "height": null,
      "justify_content": null,
      "justify_items": null,
      "left": null,
      "margin": null,
      "max_height": null,
      "max_width": null,
      "min_height": null,
      "min_width": null,
      "object_fit": null,
      "object_position": null,
      "order": null,
      "overflow": null,
      "overflow_x": null,
      "overflow_y": null,
      "padding": null,
      "right": null,
      "top": null,
      "visibility": null,
      "width": null
     }
    },
    "eb11c58f33d34d2c89c8d3264eb51844": {
     "model_module": "@jupyter-widgets/controls",
     "model_module_version": "1.5.0",
     "model_name": "HTMLModel",
     "state": {
      "_dom_classes": [],
      "_model_module": "@jupyter-widgets/controls",
      "_model_module_version": "1.5.0",
      "_model_name": "HTMLModel",
      "_view_count": null,
      "_view_module": "@jupyter-widgets/controls",
      "_view_module_version": "1.5.0",
      "_view_name": "HTMLView",
      "description": "",
      "description_tooltip": null,
      "layout": "IPY_MODEL_61dce4ce20ef4495b862ea09d4e9a29a",
      "placeholder": "​",
      "style": "IPY_MODEL_eef85bee67694663ad6d6244dea69367",
      "value": " 29.0/29.0 [00:00&lt;00:00, 468B/s]"
     }
    },
    "eb1429c60cd24b36865530e1012cb1dc": {
     "model_module": "@jupyter-widgets/controls",
     "model_module_version": "1.5.0",
     "model_name": "ProgressStyleModel",
     "state": {
      "_model_module": "@jupyter-widgets/controls",
      "_model_module_version": "1.5.0",
      "_model_name": "ProgressStyleModel",
      "_view_count": null,
      "_view_module": "@jupyter-widgets/base",
      "_view_module_version": "1.2.0",
      "_view_name": "StyleView",
      "bar_color": null,
      "description_width": ""
     }
    },
    "eef85bee67694663ad6d6244dea69367": {
     "model_module": "@jupyter-widgets/controls",
     "model_module_version": "1.5.0",
     "model_name": "DescriptionStyleModel",
     "state": {
      "_model_module": "@jupyter-widgets/controls",
      "_model_module_version": "1.5.0",
      "_model_name": "DescriptionStyleModel",
      "_view_count": null,
      "_view_module": "@jupyter-widgets/base",
      "_view_module_version": "1.2.0",
      "_view_name": "StyleView",
      "description_width": ""
     }
    },
    "f4773383afe64e5eb54c06730d1b9fe8": {
     "model_module": "@jupyter-widgets/base",
     "model_module_version": "1.2.0",
     "model_name": "LayoutModel",
     "state": {
      "_model_module": "@jupyter-widgets/base",
      "_model_module_version": "1.2.0",
      "_model_name": "LayoutModel",
      "_view_count": null,
      "_view_module": "@jupyter-widgets/base",
      "_view_module_version": "1.2.0",
      "_view_name": "LayoutView",
      "align_content": null,
      "align_items": null,
      "align_self": null,
      "border": null,
      "bottom": null,
      "display": null,
      "flex": null,
      "flex_flow": null,
      "grid_area": null,
      "grid_auto_columns": null,
      "grid_auto_flow": null,
      "grid_auto_rows": null,
      "grid_column": null,
      "grid_gap": null,
      "grid_row": null,
      "grid_template_areas": null,
      "grid_template_columns": null,
      "grid_template_rows": null,
      "height": null,
      "justify_content": null,
      "justify_items": null,
      "left": null,
      "margin": null,
      "max_height": null,
      "max_width": null,
      "min_height": null,
      "min_width": null,
      "object_fit": null,
      "object_position": null,
      "order": null,
      "overflow": null,
      "overflow_x": null,
      "overflow_y": null,
      "padding": null,
      "right": null,
      "top": null,
      "visibility": null,
      "width": null
     }
    },
    "fe0f031bb0cf4a5983f6495bc5396697": {
     "model_module": "@jupyter-widgets/controls",
     "model_module_version": "1.5.0",
     "model_name": "DescriptionStyleModel",
     "state": {
      "_model_module": "@jupyter-widgets/controls",
      "_model_module_version": "1.5.0",
      "_model_name": "DescriptionStyleModel",
      "_view_count": null,
      "_view_module": "@jupyter-widgets/base",
      "_view_module_version": "1.2.0",
      "_view_name": "StyleView",
      "description_width": ""
     }
    }
   }
  }
 },
 "nbformat": 4,
 "nbformat_minor": 1
}
